{
 "cells": [
  {
   "cell_type": "code",
   "execution_count": 61,
   "metadata": {},
   "outputs": [],
   "source": [
    "import numpy as np\n",
    "import matplotlib.pyplot as plt\n",
    "import matplotlib.patches as mpatches\n",
    "import math\n",
    "import random"
   ]
  },
  {
   "cell_type": "code",
   "execution_count": 81,
   "metadata": {},
   "outputs": [],
   "source": [
    "def plot_scatter(data_A, data_B, x_axis, label_A, label_B, label_x, label_y):\n",
    "\n",
    "    x = x_axis\n",
    "    a = data_A\n",
    "    b = data_B\n",
    "\n",
    "    fig, ax = plt.subplots()\n",
    "    ax.scatter(x, a, color = \"r\", label = label_A)\n",
    "    ax.scatter(x, b, color = \"b\", label = label_B)\n",
    "    \n",
    "    red_patch = mpatches.Patch(color = 'r', label = label_A)\n",
    "    blue_patch = mpatches.Patch(color = 'b', label = label_B)\n",
    "    plt.legend(handles=[red_patch, blue_patch])\n",
    "    plt.xlabel(label_x)\n",
    "    plt.ylabel(label_y)\n",
    "    \n",
    "    plt.show()"
   ]
  },
  {
   "cell_type": "markdown",
   "metadata": {},
   "source": [
    "Exercise 1"
   ]
  },
  {
   "cell_type": "code",
   "execution_count": 82,
   "metadata": {},
   "outputs": [],
   "source": [
    "def points_distribution(points_n, dimensions_n, radius):\n",
    "    \n",
    "    points = [[np.random.uniform(-1, 1) for i in range(dimensions_n)] for j in range(points_n)]\n",
    "    center_point = np.zeros(dimensions_n)\n",
    "    \n",
    "    in_ball = [points[i] for i in range(points_n) if (np.linalg.norm(points[i] - center_point) <= radius)]\n",
    "    \n",
    "    not_in_ball = [points[i] for i in range(points_n) if (np.linalg.norm(points[i] - center_point) > radius)]\n",
    "    \n",
    "    in_ball_percent = 100 * len(list(in_ball)) / points_n\n",
    "    not_in_ball_percent = 100 * len(list(not_in_ball)) / points_n\n",
    "    return in_ball_percent, not_in_ball_percent"
   ]
  },
  {
   "cell_type": "code",
   "execution_count": 83,
   "metadata": {
    "scrolled": true
   },
   "outputs": [
    {
     "name": "stdout",
     "output_type": "stream",
     "text": [
      "Points in ball: 32.0 %, Points not in ball: 68.0 %\n"
     ]
    }
   ],
   "source": [
    "points_distribution(100, 4, 1)\n",
    "\n",
    "in_b, not_in_b = points_distribution(100, 4, 1)\n",
    "print(\"Points in ball: \" + str(in_b) + \" %, Points not in ball: \" + str(not_in_b) + \" %\")"
   ]
  },
  {
   "cell_type": "markdown",
   "metadata": {},
   "source": [
    "Create a plot"
   ]
  },
  {
   "cell_type": "code",
   "execution_count": 84,
   "metadata": {},
   "outputs": [],
   "source": [
    "def points_distribution_plot(samples_n):\n",
    "    in_ball = []\n",
    "    out_ball = []\n",
    "    dimension = []\n",
    "    d = 2\n",
    "    for i in range(samples_n):\n",
    "        p = 1000\n",
    "        d += 1\n",
    "        d_actual = (d % 10) + 1\n",
    "        in_b, out_b = points_distribution(p, d_actual, 1)\n",
    "        in_ball.append(in_b)\n",
    "        out_ball.append(out_b)\n",
    "        dimension.append(d_actual)\n",
    "    return in_ball, out_ball, dimension"
   ]
  },
  {
   "cell_type": "code",
   "execution_count": 85,
   "metadata": {},
   "outputs": [],
   "source": [
    "in_ball, out_ball, dim = points_distribution_plot(500)"
   ]
  },
  {
   "cell_type": "code",
   "execution_count": 87,
   "metadata": {
    "scrolled": false
   },
   "outputs": [
    {
     "data": {
      "image/png": "[encoded data removed]",
      "text/plain": [
       "<matplotlib.figure.Figure at 0x7f3e7f7598d0>"
      ]
     },
     "metadata": {},
     "output_type": "display_data"
    }
   ],
   "source": [
    "plot_scatter(in_ball, out_ball, dim, \"In\", \"Out\", \"Dimensions\", \"Percent of points\")"
   ]
  },
  {
   "cell_type": "markdown",
   "metadata": {},
   "source": [
    "Exercise 2"
   ]
  },
  {
   "cell_type": "code",
   "execution_count": 64,
   "metadata": {},
   "outputs": [],
   "source": [
    "def create_hypercube(points_n, dimensions_n):\n",
    "    points = [[np.random.uniform(-1, 1) for i in range(dimensions_n)] for j in range(points_n)]\n",
    "    return points"
   ]
  },
  {
   "cell_type": "code",
   "execution_count": 65,
   "metadata": {},
   "outputs": [],
   "source": [
    "def mean_and_std_distance_hypercube(points_n, dimensions_n, samples_n):\n",
    "    points = create_hypercube(points_n, dimensions_n)\n",
    "    sampled_points = np.array(random.sample(points, samples_n))\n",
    "    distances = []\n",
    "    \n",
    "    for i in range(samples_n):\n",
    "        for j in range(i + 1, samples_n):\n",
    "            distance = np.linalg.norm(sampled_points[i] - sampled_points[j])\n",
    "            distances.append(distance)\n",
    "    \n",
    "    return np.mean(distances), np.std(distances)"
   ]
  },
  {
   "cell_type": "code",
   "execution_count": 66,
   "metadata": {},
   "outputs": [
    {
     "name": "stdout",
     "output_type": "stream",
     "text": [
      "(1.7951970848214762, 0.5016980529342184)\n"
     ]
    }
   ],
   "source": [
    "print(mean_and_std_distance_hypercube(1000, 5, 250))"
   ]
  },
  {
   "cell_type": "code",
   "execution_count": 88,
   "metadata": {},
   "outputs": [],
   "source": [
    "def mean_and_std_plot(samples_n):\n",
    "    mean = []\n",
    "    std = []\n",
    "    dimension = []\n",
    "    d = 2\n",
    "    \n",
    "    for d in range(2, 11):\n",
    "        for i in range(samples_n):\n",
    "            p = 1000\n",
    "            m, s = mean_and_std_distance_hypercube(1000, d, 400)\n",
    "            mean.append(m)\n",
    "            std.append(s)\n",
    "            dimension.append(d) \n",
    "        \n",
    "    return mean, std, dimension"
   ]
  },
  {
   "cell_type": "code",
   "execution_count": 89,
   "metadata": {},
   "outputs": [],
   "source": [
    "mean, std, dim = mean_and_std_plot(10)"
   ]
  },
  {
   "cell_type": "code",
   "execution_count": 90,
   "metadata": {
    "scrolled": false
   },
   "outputs": [
    {
     "data": {
      "image/png": "[encoded data removed]",
      "text/plain": [
       "<matplotlib.figure.Figure at 0x7f3e7f759550>"
      ]
     },
     "metadata": {},
     "output_type": "display_data"
    }
   ],
   "source": [
    "plot_scatter(mean, std, dim, \"Mean\", \"std\", \"Value\", \"Dimensions\")"
   ]
  },
  {
   "cell_type": "markdown",
   "metadata": {},
   "source": [
    "Exercise 3"
   ]
  },
  {
   "cell_type": "code",
   "execution_count": 18,
   "metadata": {},
   "outputs": [],
   "source": [
    "# https://stackoverflow.com/questions/2827393/angles-between-two-n-dimensional-vectors-in-python\n",
    "def dotproduct(v1, v2):\n",
    "  return sum((a*b) for a, b in zip(v1, v2))\n",
    "\n",
    "def length(v):\n",
    "  return math.sqrt(dotproduct(v, v))\n",
    "\n",
    "def calculate_angle(v1, v2):\n",
    "  return math.acos(dotproduct(v1, v2) / (length(v1) * length(v2)))"
   ]
  },
  {
   "cell_type": "code",
   "execution_count": 19,
   "metadata": {},
   "outputs": [],
   "source": [
    "def create_vector(starting_point, ending_point):\n",
    "    return [e - s for s, e in zip(starting_point, ending_point)]"
   ]
  },
  {
   "cell_type": "code",
   "execution_count": 20,
   "metadata": {},
   "outputs": [
    {
     "data": {
      "text/plain": [
       "[2, 2]"
      ]
     },
     "execution_count": 20,
     "metadata": {},
     "output_type": "execute_result"
    }
   ],
   "source": [
    "create_vector([1, 2], [3, 4])"
   ]
  },
  {
   "cell_type": "code",
   "execution_count": 28,
   "metadata": {},
   "outputs": [],
   "source": [
    "def angle_between_two_vectors(points, samples_n):\n",
    "    angles = []\n",
    "    for i in range(samples_n):\n",
    "        sampled_points = np.array(random.sample(points, 4))\n",
    "        vector_1 = create_vector(sampled_points[0], sampled_points[1])\n",
    "        vector_2 = create_vector(sampled_points[2], sampled_points[3])\n",
    "        angle_radian = calculate_angle(vector_1, vector_2)\n",
    "        angle_degree = angle_radian * 180 / math.pi\n",
    "        angles.append(angle_degree)\n",
    "    return angles\n",
    "        "
   ]
  },
  {
   "cell_type": "code",
   "execution_count": 31,
   "metadata": {},
   "outputs": [],
   "source": [
    "points = create_hypercube(1000, 6)"
   ]
  },
  {
   "cell_type": "code",
   "execution_count": 32,
   "metadata": {},
   "outputs": [
    {
     "name": "stdout",
     "output_type": "stream",
     "text": [
      "[94.97125414928593, 115.9267026849197, 58.22188922641761, 78.76706004657485, 110.0021860501741, 65.12337410893643, 120.55997209539404, 64.82947102906523, 77.49915783439204, 79.71151156347652]\n"
     ]
    }
   ],
   "source": [
    "print(angle_between_two_vectors(points, 10))"
   ]
  },
  {
   "cell_type": "code",
   "execution_count": 38,
   "metadata": {},
   "outputs": [],
   "source": [
    "def plot_angle_distribution_in_dimension(dimensions_n, samples_n):\n",
    "    points = create_hypercube(1000, dimensions_n)\n",
    "    angles = angle_between_two_vectors(points, samples_n)\n",
    "    return angles "
   ]
  },
  {
   "cell_type": "code",
   "execution_count": 50,
   "metadata": {},
   "outputs": [],
   "source": [
    "def plot_histogram(data, bins, label_x, label_y):\n",
    "    plt.hist(data, bins)\n",
    "    plt.xlabel(label_x)\n",
    "    plt.ylabel(label_y)\n"
   ]
  },
  {
   "cell_type": "code",
   "execution_count": 51,
   "metadata": {},
   "outputs": [
    {
     "data": {
      "image/png": "[encoded data removed]",
      "text/plain": [
       "<matplotlib.figure.Figure at 0x7f3e81a56940>"
      ]
     },
     "metadata": {},
     "output_type": "display_data"
    }
   ],
   "source": [
    "plot_histogram(plot_angle_distribution_in_dimension(2, 500), np.arange(start = 0, stop = 180, step = 5), \"Angles\", \"Frequency\")"
   ]
  },
  {
   "cell_type": "code",
   "execution_count": 70,
   "metadata": {},
   "outputs": [
    {
     "data": {
      "image/png": "[encoded data removed]",
      "text/plain": [
       "<matplotlib.figure.Figure at 0x7f3e819ca198>"
      ]
     },
     "metadata": {},
     "output_type": "display_data"
    }
   ],
   "source": [
    "plot_histogram(plot_angle_distribution_in_dimension(3, 500), np.arange(start = 0, stop = 180, step = 5), \"Angles\", \"Frequency\")"
   ]
  },
  {
   "cell_type": "code",
   "execution_count": 71,
   "metadata": {},
   "outputs": [
    {
     "data": {
      "image/png": "[encoded data removed]",
      "text/plain": [
       "<matplotlib.figure.Figure at 0x7f3e81ac1d68>"
      ]
     },
     "metadata": {},
     "output_type": "display_data"
    }
   ],
   "source": [
    "plot_histogram(plot_angle_distribution_in_dimension(4, 500), np.arange(start = 0, stop = 180, step = 5), \"Angles\", \"Frequency\")"
   ]
  },
  {
   "cell_type": "code",
   "execution_count": 72,
   "metadata": {},
   "outputs": [
    {
     "data": {
      "image/png": "[encoded data removed]",
      "text/plain": [
       "<matplotlib.figure.Figure at 0x7f3e7f41f0b8>"
      ]
     },
     "metadata": {},
     "output_type": "display_data"
    }
   ],
   "source": [
    "plot_histogram(plot_angle_distribution_in_dimension(5, 500), np.arange(start = 0, stop = 180, step = 5), \"Angles\", \"Frequency\")"
   ]
  },
  {
   "cell_type": "code",
   "execution_count": 73,
   "metadata": {},
   "outputs": [
    {
     "data": {
      "image/png": "[encoded data removed]",
      "text/plain": [
       "<matplotlib.figure.Figure at 0x7f3e7f98d7f0>"
      ]
     },
     "metadata": {},
     "output_type": "display_data"
    }
   ],
   "source": [
    "plot_histogram(plot_angle_distribution_in_dimension(6, 500), np.arange(start = 0, stop = 180, step = 5), \"Angles\", \"Frequency\")"
   ]
  },
  {
   "cell_type": "code",
   "execution_count": 74,
   "metadata": {},
   "outputs": [
    {
     "data": {
      "image/png": "[encoded data removed]",
      "text/plain": [
       "<matplotlib.figure.Figure at 0x7f3e7f92e550>"
      ]
     },
     "metadata": {},
     "output_type": "display_data"
    }
   ],
   "source": [
    "plot_histogram(plot_angle_distribution_in_dimension(7, 500), np.arange(start = 0, stop = 180, step = 5), \"Angles\", \"Frequency\")"
   ]
  },
  {
   "cell_type": "code",
   "execution_count": 75,
   "metadata": {},
   "outputs": [
    {
     "data": {
      "image/png": "[encoded data removed]",
      "text/plain": [
       "<matplotlib.figure.Figure at 0x7f3e7f64d4a8>"
      ]
     },
     "metadata": {},
     "output_type": "display_data"
    }
   ],
   "source": [
    "plot_histogram(plot_angle_distribution_in_dimension(8, 500), np.arange(start = 0, stop = 180, step = 5), \"Angles\", \"Frequency\")"
   ]
  },
  {
   "cell_type": "code",
   "execution_count": 76,
   "metadata": {},
   "outputs": [
    {
     "data": {
      "image/png": "[encoded data removed]",
      "text/plain": [
       "<matplotlib.figure.Figure at 0x7f3e7f529780>"
      ]
     },
     "metadata": {},
     "output_type": "display_data"
    }
   ],
   "source": [
    "plot_histogram(plot_angle_distribution_in_dimension(9, 500), np.arange(start = 0, stop = 180, step = 5), \"Angles\", \"Frequency\")"
   ]
  },
  {
   "cell_type": "code",
   "execution_count": 77,
   "metadata": {},
   "outputs": [
    {
     "data": {
      "image/png": "[encoded data removed]",
      "text/plain": [
       "<matplotlib.figure.Figure at 0x7f3e7f944518>"
      ]
     },
     "metadata": {},
     "output_type": "display_data"
    }
   ],
   "source": [
    "plot_histogram(plot_angle_distribution_in_dimension(10, 500), np.arange(start = 0, stop = 180, step = 5), \"Angles\", \"Frequency\")"
   ]
  },
  {
   "cell_type": "code",
   "execution_count": null,
   "metadata": {},
   "outputs": [],
   "source": []
  }
 ],
 "metadata": {
  "kernelspec": {
   "display_name": "Python 3",
   "language": "python",
   "name": "python3"
  },
  "language_info": {
   "codemirror_mode": {
    "name": "ipython",
    "version": 3
   },
   "file_extension": ".py",
   "mimetype": "text/x-python",
   "name": "python",
   "nbconvert_exporter": "python",
   "pygments_lexer": "ipython3",
   "version": "3.6.9"
  }
 },
 "nbformat": 4,
 "nbformat_minor": 2
}
