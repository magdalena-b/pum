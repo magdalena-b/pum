{
 "cells": [
  {
   "cell_type": "code",
   "execution_count": 5,
   "metadata": {},
   "outputs": [],
   "source": [
    "import pandas\n",
    "import sklearn\n",
    "from sklearn.cluster import KMeans\n",
    "import numpy as np\n",
    "import matplotlib.pyplot as plt"
   ]
  },
  {
   "cell_type": "code",
   "execution_count": 6,
   "metadata": {
    "scrolled": false
   },
   "outputs": [
    {
     "name": "stdout",
     "output_type": "stream",
     "text": [
      "               Category                                               Item  \\\n",
      "0             Breakfast                                       Egg McMuffin   \n",
      "1             Breakfast                                  Egg White Delight   \n",
      "2             Breakfast                                   Sausage McMuffin   \n",
      "3             Breakfast                          Sausage McMuffin with Egg   \n",
      "4             Breakfast                   Sausage McMuffin with Egg Whites   \n",
      "..                  ...                                                ...   \n",
      "255  Smoothies & Shakes                 McFlurry with Oreo Cookies (Small)   \n",
      "256  Smoothies & Shakes                McFlurry with Oreo Cookies (Medium)   \n",
      "257  Smoothies & Shakes                 McFlurry with Oreo Cookies (Snack)   \n",
      "258  Smoothies & Shakes  McFlurry with Reese's Peanut Butter Cups (Medium)   \n",
      "259  Smoothies & Shakes   McFlurry with Reese's Peanut Butter Cups (Snack)   \n",
      "\n",
      "        Serving Size  Calories  Calories from Fat  Total Fat  \\\n",
      "0     4.8 oz (136 g)       300                120       13.0   \n",
      "1     4.8 oz (135 g)       250                 70        8.0   \n",
      "2     3.9 oz (111 g)       370                200       23.0   \n",
      "3     5.7 oz (161 g)       450                250       28.0   \n",
      "4     5.7 oz (161 g)       400                210       23.0   \n",
      "..               ...       ...                ...        ...   \n",
      "255  10.1 oz (285 g)       510                150       17.0   \n",
      "256  13.4 oz (381 g)       690                200       23.0   \n",
      "257   6.7 oz (190 g)       340                100       11.0   \n",
      "258  14.2 oz (403 g)       810                290       32.0   \n",
      "259   7.1 oz (202 g)       410                150       16.0   \n",
      "\n",
      "     Total Fat (% Daily Value)  Saturated Fat  Saturated Fat (% Daily Value)  \\\n",
      "0                           20            5.0                             25   \n",
      "1                           12            3.0                             15   \n",
      "2                           35            8.0                             42   \n",
      "3                           43           10.0                             52   \n",
      "4                           35            8.0                             42   \n",
      "..                         ...            ...                            ...   \n",
      "255                         26            9.0                             44   \n",
      "256                         35           12.0                             58   \n",
      "257                         17            6.0                             29   \n",
      "258                         50           15.0                             76   \n",
      "259                         25            8.0                             38   \n",
      "\n",
      "     Trans Fat  ...  Carbohydrates  Carbohydrates (% Daily Value)  \\\n",
      "0          0.0  ...             31                             10   \n",
      "1          0.0  ...             30                             10   \n",
      "2          0.0  ...             29                             10   \n",
      "3          0.0  ...             30                             10   \n",
      "4          0.0  ...             30                             10   \n",
      "..         ...  ...            ...                            ...   \n",
      "255        0.5  ...             80                             27   \n",
      "256        1.0  ...            106                             35   \n",
      "257        0.0  ...             53                             18   \n",
      "258        1.0  ...            114                             38   \n",
      "259        0.0  ...             57                             19   \n",
      "\n",
      "     Dietary Fiber  Dietary Fiber (% Daily Value)  Sugars  Protein  \\\n",
      "0                4                             17       3       17   \n",
      "1                4                             17       3       18   \n",
      "2                4                             17       2       14   \n",
      "3                4                             17       2       21   \n",
      "4                4                             17       2       21   \n",
      "..             ...                            ...     ...      ...   \n",
      "255              1                              4      64       12   \n",
      "256              1                              5      85       15   \n",
      "257              1                              2      43        8   \n",
      "258              2                              9     103       21   \n",
      "259              1                              5      51       10   \n",
      "\n",
      "     Vitamin A (% Daily Value)  Vitamin C (% Daily Value)  \\\n",
      "0                           10                          0   \n",
      "1                            6                          0   \n",
      "2                            8                          0   \n",
      "3                           15                          0   \n",
      "4                            6                          0   \n",
      "..                         ...                        ...   \n",
      "255                         15                          0   \n",
      "256                         20                          0   \n",
      "257                         10                          0   \n",
      "258                         20                          0   \n",
      "259                         10                          0   \n",
      "\n",
      "     Calcium (% Daily Value)  Iron (% Daily Value)  \n",
      "0                         25                    15  \n",
      "1                         25                     8  \n",
      "2                         25                    10  \n",
      "3                         30                    15  \n",
      "4                         25                    10  \n",
      "..                       ...                   ...  \n",
      "255                       40                     8  \n",
      "256                       50                    10  \n",
      "257                       25                     6  \n",
      "258                       60                     6  \n",
      "259                       30                     4  \n",
      "\n",
      "[260 rows x 24 columns]\n"
     ]
    }
   ],
   "source": [
    "df = pandas.read_csv(\"menu.csv\")\n",
    "print(df)"
   ]
  },
  {
   "cell_type": "code",
   "execution_count": 7,
   "metadata": {},
   "outputs": [],
   "source": [
    "labels = []\n",
    "for c in df['Category']:\n",
    "    labels.append(c)"
   ]
  },
  {
   "cell_type": "code",
   "execution_count": 8,
   "metadata": {},
   "outputs": [
    {
     "name": "stdout",
     "output_type": "stream",
     "text": [
      "['Breakfast', 'Breakfast', 'Breakfast', 'Breakfast', 'Breakfast', 'Breakfast', 'Breakfast', 'Breakfast', 'Breakfast', 'Breakfast', 'Breakfast', 'Breakfast', 'Breakfast', 'Breakfast', 'Breakfast', 'Breakfast', 'Breakfast', 'Breakfast', 'Breakfast', 'Breakfast', 'Breakfast', 'Breakfast', 'Breakfast', 'Breakfast', 'Breakfast', 'Breakfast', 'Breakfast', 'Breakfast', 'Breakfast', 'Breakfast', 'Breakfast', 'Breakfast', 'Breakfast', 'Breakfast', 'Breakfast', 'Breakfast', 'Breakfast', 'Breakfast', 'Breakfast', 'Breakfast', 'Breakfast', 'Breakfast', 'Beef & Pork', 'Beef & Pork', 'Beef & Pork', 'Beef & Pork', 'Beef & Pork', 'Beef & Pork', 'Beef & Pork', 'Beef & Pork', 'Beef & Pork', 'Beef & Pork', 'Beef & Pork', 'Beef & Pork', 'Beef & Pork', 'Beef & Pork', 'Beef & Pork', 'Chicken & Fish', 'Chicken & Fish', 'Chicken & Fish', 'Chicken & Fish', 'Chicken & Fish', 'Chicken & Fish', 'Chicken & Fish', 'Chicken & Fish', 'Chicken & Fish', 'Chicken & Fish', 'Chicken & Fish', 'Chicken & Fish', 'Chicken & Fish', 'Chicken & Fish', 'Chicken & Fish', 'Chicken & Fish', 'Chicken & Fish', 'Chicken & Fish', 'Chicken & Fish', 'Chicken & Fish', 'Chicken & Fish', 'Chicken & Fish', 'Chicken & Fish', 'Chicken & Fish', 'Chicken & Fish', 'Chicken & Fish', 'Chicken & Fish', 'Salads', 'Salads', 'Salads', 'Salads', 'Salads', 'Salads', 'Snacks & Sides', 'Snacks & Sides', 'Snacks & Sides', 'Snacks & Sides', 'Snacks & Sides', 'Snacks & Sides', 'Snacks & Sides', 'Snacks & Sides', 'Snacks & Sides', 'Snacks & Sides', 'Snacks & Sides', 'Snacks & Sides', 'Snacks & Sides', 'Desserts', 'Desserts', 'Desserts', 'Desserts', 'Desserts', 'Desserts', 'Desserts', 'Beverages', 'Beverages', 'Beverages', 'Beverages', 'Beverages', 'Beverages', 'Beverages', 'Beverages', 'Beverages', 'Beverages', 'Beverages', 'Beverages', 'Beverages', 'Beverages', 'Beverages', 'Beverages', 'Beverages', 'Beverages', 'Beverages', 'Beverages', 'Beverages', 'Beverages', 'Beverages', 'Beverages', 'Beverages', 'Beverages', 'Beverages', 'Coffee & Tea', 'Coffee & Tea', 'Coffee & Tea', 'Coffee & Tea', 'Coffee & Tea', 'Coffee & Tea', 'Coffee & Tea', 'Coffee & Tea', 'Coffee & Tea', 'Coffee & Tea', 'Coffee & Tea', 'Coffee & Tea', 'Coffee & Tea', 'Coffee & Tea', 'Coffee & Tea', 'Coffee & Tea', 'Coffee & Tea', 'Coffee & Tea', 'Coffee & Tea', 'Coffee & Tea', 'Coffee & Tea', 'Coffee & Tea', 'Coffee & Tea', 'Coffee & Tea', 'Coffee & Tea', 'Coffee & Tea', 'Coffee & Tea', 'Coffee & Tea', 'Coffee & Tea', 'Coffee & Tea', 'Coffee & Tea', 'Coffee & Tea', 'Coffee & Tea', 'Coffee & Tea', 'Coffee & Tea', 'Coffee & Tea', 'Coffee & Tea', 'Coffee & Tea', 'Coffee & Tea', 'Coffee & Tea', 'Coffee & Tea', 'Coffee & Tea', 'Coffee & Tea', 'Coffee & Tea', 'Coffee & Tea', 'Coffee & Tea', 'Coffee & Tea', 'Coffee & Tea', 'Coffee & Tea', 'Coffee & Tea', 'Coffee & Tea', 'Coffee & Tea', 'Coffee & Tea', 'Coffee & Tea', 'Coffee & Tea', 'Coffee & Tea', 'Coffee & Tea', 'Coffee & Tea', 'Coffee & Tea', 'Coffee & Tea', 'Coffee & Tea', 'Coffee & Tea', 'Coffee & Tea', 'Coffee & Tea', 'Coffee & Tea', 'Coffee & Tea', 'Coffee & Tea', 'Coffee & Tea', 'Coffee & Tea', 'Coffee & Tea', 'Coffee & Tea', 'Coffee & Tea', 'Coffee & Tea', 'Coffee & Tea', 'Coffee & Tea', 'Coffee & Tea', 'Coffee & Tea', 'Coffee & Tea', 'Coffee & Tea', 'Coffee & Tea', 'Coffee & Tea', 'Coffee & Tea', 'Coffee & Tea', 'Coffee & Tea', 'Coffee & Tea', 'Coffee & Tea', 'Coffee & Tea', 'Coffee & Tea', 'Coffee & Tea', 'Coffee & Tea', 'Coffee & Tea', 'Coffee & Tea', 'Coffee & Tea', 'Coffee & Tea', 'Coffee & Tea', 'Smoothies & Shakes', 'Smoothies & Shakes', 'Smoothies & Shakes', 'Smoothies & Shakes', 'Smoothies & Shakes', 'Smoothies & Shakes', 'Smoothies & Shakes', 'Smoothies & Shakes', 'Smoothies & Shakes', 'Smoothies & Shakes', 'Smoothies & Shakes', 'Smoothies & Shakes', 'Smoothies & Shakes', 'Smoothies & Shakes', 'Smoothies & Shakes', 'Smoothies & Shakes', 'Smoothies & Shakes', 'Smoothies & Shakes', 'Smoothies & Shakes', 'Smoothies & Shakes', 'Smoothies & Shakes', 'Smoothies & Shakes', 'Smoothies & Shakes', 'Smoothies & Shakes', 'Smoothies & Shakes', 'Smoothies & Shakes', 'Smoothies & Shakes', 'Smoothies & Shakes']\n"
     ]
    }
   ],
   "source": [
    "print( labels)"
   ]
  },
  {
   "cell_type": "markdown",
   "metadata": {},
   "source": [
    "Delete category and item columns"
   ]
  },
  {
   "cell_type": "code",
   "execution_count": 9,
   "metadata": {},
   "outputs": [
    {
     "data": {
      "text/plain": [
       "0       4.8 oz (136 g)\n",
       "1       4.8 oz (135 g)\n",
       "2       3.9 oz (111 g)\n",
       "3       5.7 oz (161 g)\n",
       "4       5.7 oz (161 g)\n",
       "            ...       \n",
       "255    10.1 oz (285 g)\n",
       "256    13.4 oz (381 g)\n",
       "257     6.7 oz (190 g)\n",
       "258    14.2 oz (403 g)\n",
       "259     7.1 oz (202 g)\n",
       "Name: Serving Size, Length: 260, dtype: object"
      ]
     },
     "execution_count": 9,
     "metadata": {},
     "output_type": "execute_result"
    }
   ],
   "source": [
    "df.pop(\"Category\")\n",
    "df.pop(\"Item\")\n",
    "df.pop(\"Serving Size\")"
   ]
  },
  {
   "cell_type": "code",
   "execution_count": 10,
   "metadata": {},
   "outputs": [
    {
     "name": "stdout",
     "output_type": "stream",
     "text": [
      "     Calories  Calories from Fat  Total Fat  Total Fat (% Daily Value)  \\\n",
      "0         300                120       13.0                         20   \n",
      "1         250                 70        8.0                         12   \n",
      "2         370                200       23.0                         35   \n",
      "3         450                250       28.0                         43   \n",
      "4         400                210       23.0                         35   \n",
      "..        ...                ...        ...                        ...   \n",
      "255       510                150       17.0                         26   \n",
      "256       690                200       23.0                         35   \n",
      "257       340                100       11.0                         17   \n",
      "258       810                290       32.0                         50   \n",
      "259       410                150       16.0                         25   \n",
      "\n",
      "     Saturated Fat  Saturated Fat (% Daily Value)  Trans Fat  Cholesterol  \\\n",
      "0              5.0                             25        0.0          260   \n",
      "1              3.0                             15        0.0           25   \n",
      "2              8.0                             42        0.0           45   \n",
      "3             10.0                             52        0.0          285   \n",
      "4              8.0                             42        0.0           50   \n",
      "..             ...                            ...        ...          ...   \n",
      "255            9.0                             44        0.5           45   \n",
      "256           12.0                             58        1.0           55   \n",
      "257            6.0                             29        0.0           30   \n",
      "258           15.0                             76        1.0           60   \n",
      "259            8.0                             38        0.0           30   \n",
      "\n",
      "     Cholesterol (% Daily Value)  Sodium  ...  Carbohydrates  \\\n",
      "0                             87     750  ...             31   \n",
      "1                              8     770  ...             30   \n",
      "2                             15     780  ...             29   \n",
      "3                             95     860  ...             30   \n",
      "4                             16     880  ...             30   \n",
      "..                           ...     ...  ...            ...   \n",
      "255                           14     280  ...             80   \n",
      "256                           19     380  ...            106   \n",
      "257                            9     190  ...             53   \n",
      "258                           20     400  ...            114   \n",
      "259                           10     200  ...             57   \n",
      "\n",
      "     Carbohydrates (% Daily Value)  Dietary Fiber  \\\n",
      "0                               10              4   \n",
      "1                               10              4   \n",
      "2                               10              4   \n",
      "3                               10              4   \n",
      "4                               10              4   \n",
      "..                             ...            ...   \n",
      "255                             27              1   \n",
      "256                             35              1   \n",
      "257                             18              1   \n",
      "258                             38              2   \n",
      "259                             19              1   \n",
      "\n",
      "     Dietary Fiber (% Daily Value)  Sugars  Protein  \\\n",
      "0                               17       3       17   \n",
      "1                               17       3       18   \n",
      "2                               17       2       14   \n",
      "3                               17       2       21   \n",
      "4                               17       2       21   \n",
      "..                             ...     ...      ...   \n",
      "255                              4      64       12   \n",
      "256                              5      85       15   \n",
      "257                              2      43        8   \n",
      "258                              9     103       21   \n",
      "259                              5      51       10   \n",
      "\n",
      "     Vitamin A (% Daily Value)  Vitamin C (% Daily Value)  \\\n",
      "0                           10                          0   \n",
      "1                            6                          0   \n",
      "2                            8                          0   \n",
      "3                           15                          0   \n",
      "4                            6                          0   \n",
      "..                         ...                        ...   \n",
      "255                         15                          0   \n",
      "256                         20                          0   \n",
      "257                         10                          0   \n",
      "258                         20                          0   \n",
      "259                         10                          0   \n",
      "\n",
      "     Calcium (% Daily Value)  Iron (% Daily Value)  \n",
      "0                         25                    15  \n",
      "1                         25                     8  \n",
      "2                         25                    10  \n",
      "3                         30                    15  \n",
      "4                         25                    10  \n",
      "..                       ...                   ...  \n",
      "255                       40                     8  \n",
      "256                       50                    10  \n",
      "257                       25                     6  \n",
      "258                       60                     6  \n",
      "259                       30                     4  \n",
      "\n",
      "[260 rows x 21 columns]\n"
     ]
    }
   ],
   "source": [
    "print(df)"
   ]
  },
  {
   "cell_type": "code",
   "execution_count": 11,
   "metadata": {},
   "outputs": [],
   "source": [
    "df_normalized = ((df-df.min())/(df.max()-df.min()))*10"
   ]
  },
  {
   "cell_type": "code",
   "execution_count": 12,
   "metadata": {
    "scrolled": true
   },
   "outputs": [
    {
     "name": "stdout",
     "output_type": "stream",
     "text": [
      "     Calories  Calories from Fat  Total Fat  Total Fat (% Daily Value)  \\\n",
      "0    1.595745           1.132075   1.101695                   1.098901   \n",
      "1    1.329787           0.660377   0.677966                   0.659341   \n",
      "2    1.968085           1.886792   1.949153                   1.923077   \n",
      "3    2.393617           2.358491   2.372881                   2.362637   \n",
      "4    2.127660           1.981132   1.949153                   1.923077   \n",
      "..        ...                ...        ...                        ...   \n",
      "255  2.712766           1.415094   1.440678                   1.428571   \n",
      "256  3.670213           1.886792   1.949153                   1.923077   \n",
      "257  1.808511           0.943396   0.932203                   0.934066   \n",
      "258  4.308511           2.735849   2.711864                   2.747253   \n",
      "259  2.180851           1.415094   1.355932                   1.373626   \n",
      "\n",
      "     Saturated Fat  Saturated Fat (% Daily Value)  Trans Fat  Cholesterol  \\\n",
      "0              2.5                       2.450980        0.0     4.521739   \n",
      "1              1.5                       1.470588        0.0     0.434783   \n",
      "2              4.0                       4.117647        0.0     0.782609   \n",
      "3              5.0                       5.098039        0.0     4.956522   \n",
      "4              4.0                       4.117647        0.0     0.869565   \n",
      "..             ...                            ...        ...          ...   \n",
      "255            4.5                       4.313725        2.0     0.782609   \n",
      "256            6.0                       5.686275        4.0     0.956522   \n",
      "257            3.0                       2.843137        0.0     0.521739   \n",
      "258            7.5                       7.450980        4.0     1.043478   \n",
      "259            4.0                       3.725490        0.0     0.521739   \n",
      "\n",
      "     Cholesterol (% Daily Value)    Sodium  ...  Carbohydrates  \\\n",
      "0                       4.531250  2.083333  ...       2.198582   \n",
      "1                       0.416667  2.138889  ...       2.127660   \n",
      "2                       0.781250  2.166667  ...       2.056738   \n",
      "3                       4.947917  2.388889  ...       2.127660   \n",
      "4                       0.833333  2.444444  ...       2.127660   \n",
      "..                           ...       ...  ...            ...   \n",
      "255                     0.729167  0.777778  ...       5.673759   \n",
      "256                     0.989583  1.055556  ...       7.517730   \n",
      "257                     0.468750  0.527778  ...       3.758865   \n",
      "258                     1.041667  1.111111  ...       8.085106   \n",
      "259                     0.520833  0.555556  ...       4.042553   \n",
      "\n",
      "     Carbohydrates (% Daily Value)  Dietary Fiber  \\\n",
      "0                         2.127660       5.714286   \n",
      "1                         2.127660       5.714286   \n",
      "2                         2.127660       5.714286   \n",
      "3                         2.127660       5.714286   \n",
      "4                         2.127660       5.714286   \n",
      "..                             ...            ...   \n",
      "255                       5.744681       1.428571   \n",
      "256                       7.446809       1.428571   \n",
      "257                       3.829787       1.428571   \n",
      "258                       8.085106       2.857143   \n",
      "259                       4.042553       1.428571   \n",
      "\n",
      "     Dietary Fiber (% Daily Value)    Sugars   Protein  \\\n",
      "0                         6.071429  0.234375  1.954023   \n",
      "1                         6.071429  0.234375  2.068966   \n",
      "2                         6.071429  0.156250  1.609195   \n",
      "3                         6.071429  0.156250  2.413793   \n",
      "4                         6.071429  0.156250  2.413793   \n",
      "..                             ...       ...       ...   \n",
      "255                       1.428571  5.000000  1.379310   \n",
      "256                       1.785714  6.640625  1.724138   \n",
      "257                       0.714286  3.359375  0.919540   \n",
      "258                       3.214286  8.046875  2.413793   \n",
      "259                       1.785714  3.984375  1.149425   \n",
      "\n",
      "     Vitamin A (% Daily Value)  Vitamin C (% Daily Value)  \\\n",
      "0                     0.588235                        0.0   \n",
      "1                     0.352941                        0.0   \n",
      "2                     0.470588                        0.0   \n",
      "3                     0.882353                        0.0   \n",
      "4                     0.352941                        0.0   \n",
      "..                         ...                        ...   \n",
      "255                   0.882353                        0.0   \n",
      "256                   1.176471                        0.0   \n",
      "257                   0.588235                        0.0   \n",
      "258                   1.176471                        0.0   \n",
      "259                   0.588235                        0.0   \n",
      "\n",
      "     Calcium (% Daily Value)  Iron (% Daily Value)  \n",
      "0                   3.571429                  3.75  \n",
      "1                   3.571429                  2.00  \n",
      "2                   3.571429                  2.50  \n",
      "3                   4.285714                  3.75  \n",
      "4                   3.571429                  2.50  \n",
      "..                       ...                   ...  \n",
      "255                 5.714286                  2.00  \n",
      "256                 7.142857                  2.50  \n",
      "257                 3.571429                  1.50  \n",
      "258                 8.571429                  1.50  \n",
      "259                 4.285714                  1.00  \n",
      "\n",
      "[260 rows x 21 columns]\n"
     ]
    }
   ],
   "source": [
    "print(df_normalized)"
   ]
  },
  {
   "cell_type": "markdown",
   "metadata": {},
   "source": [
    "K-Means Clustering"
   ]
  },
  {
   "cell_type": "code",
   "execution_count": 13,
   "metadata": {},
   "outputs": [],
   "source": [
    "X = df_normalized.values"
   ]
  },
  {
   "cell_type": "code",
   "execution_count": 14,
   "metadata": {},
   "outputs": [
    {
     "name": "stdout",
     "output_type": "stream",
     "text": [
      "[[1.59574468 1.13207547 1.10169492 ... 0.         3.57142857 3.75      ]\n",
      " [1.32978723 0.66037736 0.6779661  ... 0.         3.57142857 2.        ]\n",
      " [1.96808511 1.88679245 1.94915254 ... 0.         3.57142857 2.5       ]\n",
      " ...\n",
      " [1.80851064 0.94339623 0.93220339 ... 0.         3.57142857 1.5       ]\n",
      " [4.30851064 2.73584906 2.71186441 ... 0.         8.57142857 1.5       ]\n",
      " [2.18085106 1.41509434 1.3559322  ... 0.         4.28571429 1.        ]]\n"
     ]
    }
   ],
   "source": [
    "print(X)"
   ]
  },
  {
   "cell_type": "code",
   "execution_count": 15,
   "metadata": {},
   "outputs": [
    {
     "name": "stdout",
     "output_type": "stream",
     "text": [
      "1.1596344805561623\n"
     ]
    }
   ],
   "source": [
    "kmeans = KMeans(n_clusters=5, init='k-means++')\n",
    "kmeans.fit(X)\n",
    "\n",
    "labels = kmeans.labels_\n",
    "score = sklearn.metrics.davies_bouldin_score(X, labels)\n",
    "print(score)"
   ]
  },
  {
   "cell_type": "markdown",
   "metadata": {},
   "source": [
    "kmeans++"
   ]
  },
  {
   "cell_type": "code",
   "execution_count": 16,
   "metadata": {},
   "outputs": [],
   "source": [
    "kmeans = KMeans(n_clusters=5, n_init=1, max_iter=1, init='k-means++')"
   ]
  },
  {
   "cell_type": "code",
   "execution_count": 17,
   "metadata": {},
   "outputs": [],
   "source": [
    "def train_kmeans(X, init):\n",
    "    kmeans = KMeans(n_clusters=5, n_init=1, max_iter=1, init=init)\n",
    "\n",
    "    state = None\n",
    "    i = 0\n",
    "    ys = []\n",
    "    while True:\n",
    "        kmeans.fit(X)\n",
    "\n",
    "        labels = kmeans.labels_\n",
    "        centroids = kmeans.cluster_centers_\n",
    "\n",
    "        if np.array_equal(state, labels):\n",
    "            break\n",
    "\n",
    "        kmeans.init = centroids\n",
    "        state = labels\n",
    "\n",
    "        inertia = kmeans.inertia_\n",
    "        score = sklearn.metrics.davies_bouldin_score(X, labels)\n",
    "        i += 1\n",
    "\n",
    "        ys.append(score)\n",
    "#         print(i, inertia, score)\n",
    "\n",
    "#     print('-' * 100, end='\\n\\n')\n",
    "\n",
    "    return ys"
   ]
  },
  {
   "cell_type": "code",
   "execution_count": 18,
   "metadata": {},
   "outputs": [
    {
     "data": {
      "text/plain": [
       "[1.420620464855546,\n",
       " 1.3780897043892628,\n",
       " 1.310438639843567,\n",
       " 1.2811369244683852,\n",
       " 1.2758888123629273,\n",
       " 1.2791522517239913,\n",
       " 1.2715507844720608,\n",
       " 1.2713666408265791,\n",
       " 1.271200292290617,\n",
       " 1.271247182982319]"
      ]
     },
     "execution_count": 18,
     "metadata": {},
     "output_type": "execute_result"
    }
   ],
   "source": [
    "train_kmeans(X, 'k-means++')"
   ]
  },
  {
   "cell_type": "code",
   "execution_count": 19,
   "metadata": {},
   "outputs": [
    {
     "data": {
      "text/plain": [
       "[1.416023920160085,\n",
       " 1.4658105616363808,\n",
       " 1.539396719014509,\n",
       " 1.532345761588401,\n",
       " 1.4748982931091446,\n",
       " 1.367912809288176,\n",
       " 1.305476847732803,\n",
       " 1.2880318251177625,\n",
       " 1.2699129974095813,\n",
       " 1.2489840291043122,\n",
       " 1.2353367727754536,\n",
       " 1.2233099650755315,\n",
       " 1.2126608022121088,\n",
       " 1.2103342137404571,\n",
       " 1.2171945051173534]"
      ]
     },
     "execution_count": 19,
     "metadata": {},
     "output_type": "execute_result"
    }
   ],
   "source": [
    "train_kmeans(X, 'random')"
   ]
  },
  {
   "cell_type": "code",
   "execution_count": 20,
   "metadata": {},
   "outputs": [
    {
     "data": {
      "text/plain": [
       "[1.270677210911062,\n",
       " 1.3162071103724622,\n",
       " 1.3290604166012074,\n",
       " 1.323086069879324,\n",
       " 1.311132347062944,\n",
       " 1.2589913598021032,\n",
       " 1.2331459808397327,\n",
       " 1.2009749514050865,\n",
       " 1.1781481268216076,\n",
       " 1.165625672249793,\n",
       " 1.160643951368963]"
      ]
     },
     "execution_count": 20,
     "metadata": {},
     "output_type": "execute_result"
    }
   ],
   "source": [
    "init = np.random.uniform(0.0, 1.0, (5, X.shape[1]))\n",
    "train_kmeans(X, init)"
   ]
  },
  {
   "cell_type": "code",
   "execution_count": 21,
   "metadata": {},
   "outputs": [
    {
     "name": "stdout",
     "output_type": "stream",
     "text": [
      "20\n"
     ]
    }
   ],
   "source": [
    "plus_plus_max_iter = 0\n",
    "plus_plus_results = []\n",
    "plus_plus_mean = 0\n",
    "plus_plus_std = 0\n",
    "for i in range(50):\n",
    "    ys = train_kmeans(X, 'k-means++')\n",
    "    plus_plus_results.append(ys)\n",
    "    xs = len(ys)\n",
    "    plus_plus_max_iter = max(plus_plus_max_iter, xs)\n",
    "    \n",
    "\n",
    "\n",
    "xs = list(range(1, plus_plus_max_iter + 1))\n",
    "for j in range(50):\n",
    "    last = plus_plus_results[j][-1]\n",
    "    while len(plus_plus_results[j]) < plus_plus_max_iter:\n",
    "        plus_plus_results[j].append(last)\n",
    "    \n",
    "plus_plus_mean = np.mean(plus_plus_results, axis=0)\n",
    "plus_plus_std = np.std(plus_plus_results, axis=0)\n",
    "\n",
    "print(len(plus_plus_mean) )"
   ]
  },
  {
   "cell_type": "code",
   "execution_count": 24,
   "metadata": {},
   "outputs": [
    {
     "name": "stdout",
     "output_type": "stream",
     "text": [
      "32\n",
      "32\n"
     ]
    }
   ],
   "source": [
    "random_max_iter = 0\n",
    "random_results = []\n",
    "random_mean = 0\n",
    "random_std = 0\n",
    "\n",
    "for i in range(50):\n",
    "\n",
    "    ys = train_kmeans(X, 'random')\n",
    "    random_results.append(ys)\n",
    "    xs = len(ys)\n",
    "    random_max_iter = max(random_max_iter, xs)\n",
    "\n",
    "\n",
    "xs = list(range(1, random_max_iter + 1))\n",
    "for j in range(50):\n",
    "    last = random_results[j][-1]\n",
    "    while len(random_results[j]) < random_max_iter:\n",
    "        random_results[j].append(last)\n",
    "    \n",
    "random_mean = np.mean(random_results, axis=0)\n",
    "random_std = np.std(random_results, axis=0)\n",
    "\n",
    "print(len(random_mean) )\n",
    "print( len(random_std) )"
   ]
  },
  {
   "cell_type": "code",
   "execution_count": 25,
   "metadata": {},
   "outputs": [
    {
     "name": "stdout",
     "output_type": "stream",
     "text": [
      "32\n"
     ]
    }
   ],
   "source": [
    "total_random_max_iter = 0\n",
    "total_random_results = []\n",
    "total_random_mean = 0\n",
    "total_random_std = 0\n",
    "\n",
    "\n",
    "for i in range(50):\n",
    "    init = np.random.uniform(0.0, 1.0, (5, X.shape[1]))\n",
    "    ys = train_kmeans(X, init)\n",
    "    total_random_results.append(ys)\n",
    "    xs = len(ys)\n",
    "    total_random_max_iter = max(total_random_max_iter, xs)\n",
    "\n",
    "\n",
    "xs = list(range(1, random_max_iter + 1))\n",
    "for j in range(50):\n",
    "    last = total_random_results[j][-1]\n",
    "    while len(total_random_results[j]) < total_random_max_iter:\n",
    "        total_random_results[j].append(last)\n",
    "    \n",
    "total_random_mean = np.mean(total_random_results, axis=0)\n",
    "total_random_std = np.std(total_random_results, axis=0)\n",
    "\n",
    "print(len(total_random_mean) )"
   ]
  },
  {
   "cell_type": "code",
   "execution_count": 27,
   "metadata": {},
   "outputs": [
    {
     "data": {
      "image/png": "[encoded data removed]",
      "text/plain": [
       "<matplotlib.figure.Figure at 0x7f47881a4ef0>"
      ]
     },
     "metadata": {},
     "output_type": "display_data"
    }
   ],
   "source": [
    "# for algorithm_name, mean, std in zip(names, means, stds):\n",
    "#     plt.errorbar(xs, mean, std, label=algorithm_name, capsize=3, marker='o')\n",
    "\n",
    "min_iter = min(plus_plus_max_iter, random_max_iter, total_random_max_iter)\n",
    "# print( max_iter )\n",
    "\n",
    "plus_plus_mean = plus_plus_mean[0:min_iter]\n",
    "plus_plus_std = plus_plus_std[0:min_iter]\n",
    "\n",
    "random_mean = random_mean[0:min_iter]\n",
    "random_std = random_std[0:min_iter]\n",
    "\n",
    "total_random_mean = total_random_mean[0:min_iter]\n",
    "total_random_std = total_random_std[0:min_iter]\n",
    "\n",
    "xs = list(range(1, min_iter + 1))\n",
    "plt.errorbar(xs, plus_plus_mean, plus_plus_std, label='KMeans++', capsize=3, marker='o', color='indianred')\n",
    "plt.errorbar(xs, random_mean, random_std, label='Random', capsize=3, marker='o', color='darkseagreen')\n",
    "plt.errorbar(xs, total_random_mean, total_random_std, label='Total random', capsize=3, marker='o', color='teal')\n",
    "\n",
    "\n",
    "plt.xlabel('Number of iterations', fontsize=18)\n",
    "plt.ylabel('Davies-Bouldin Score', fontsize=18)\n",
    "plt.legend()\n",
    "plt.show()\n"
   ]
  },
  {
   "cell_type": "code",
   "execution_count": 28,
   "metadata": {},
   "outputs": [],
   "source": [
    "def plot_k_means_for_various_k(X, k_min=3, k_max=25, n_iters=10):\n",
    "    ks = list(range(k_min, k_max + 1))\n",
    "    means, stds = [], []\n",
    "    for k in ks:\n",
    "        results = []\n",
    "        for _ in range(n_iters):\n",
    "            kmeans = KMeans(n_clusters = k, init='random')\n",
    "            kmeans.fit(X)\n",
    "\n",
    "            labels = kmeans.labels_\n",
    "            score = sklearn.metrics.davies_bouldin_score(X, labels)\n",
    "            results.append(score)\n",
    "\n",
    "        means.append(np.mean(results))\n",
    "        stds.append(np.std(results))\n",
    "\n",
    "    plt.errorbar(ks, means, stds, label='k-means++', capsize=3, marker='o')\n",
    "\n",
    "    plt.xlabel('K', fontsize=18)\n",
    "    plt.ylabel('Davies-Bouldin Score', fontsize=18)\n",
    "    plt.legend()\n",
    "    plt.show()\n"
   ]
  },
  {
   "cell_type": "code",
   "execution_count": 29,
   "metadata": {},
   "outputs": [
    {
     "data": {
      "image/png": "[encoded data removed]",
      "text/plain": [
       "<matplotlib.figure.Figure at 0x7f478820d1d0>"
      ]
     },
     "metadata": {},
     "output_type": "display_data"
    }
   ],
   "source": [
    "plot_k_means_for_various_k(X, k_min=3, k_max=25, n_iters=10)"
   ]
  },
  {
   "cell_type": "markdown",
   "metadata": {},
   "source": [
    "Best k = 6"
   ]
  },
  {
   "cell_type": "code",
   "execution_count": null,
   "metadata": {},
   "outputs": [],
   "source": []
  }
 ],
 "metadata": {
  "kernelspec": {
   "display_name": "Python 3",
   "language": "python",
   "name": "python3"
  },
  "language_info": {
   "codemirror_mode": {
    "name": "ipython",
    "version": 3
   },
   "file_extension": ".py",
   "mimetype": "text/x-python",
   "name": "python",
   "nbconvert_exporter": "python",
   "pygments_lexer": "ipython3",
   "version": "3.6.9"
  }
 },
 "nbformat": 4,
 "nbformat_minor": 2
}
