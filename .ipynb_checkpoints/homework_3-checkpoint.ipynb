{
 "cells": [
  {
   "cell_type": "code",
   "execution_count": 3,
   "metadata": {},
   "outputs": [],
   "source": [
    "import numpy as np\n",
    "import os\n",
    "import glob\n",
    "from PIL import Image\n",
    "from sklearn.decomposition import PCA"
   ]
  },
  {
   "cell_type": "code",
   "execution_count": 19,
   "metadata": {},
   "outputs": [],
   "source": [
    "def load_dataset():\n",
    "    dataset = []\n",
    "    for path in glob.glob(\"./buty/*\"):\n",
    "        img = Image.open(path)\n",
    "        class_name = os.path.basename(path).split()[0]\n",
    "        print(class_name)\n",
    "        dataset.append((class_name, img))\n",
    "    print(dataset)"
   ]
  },
  {
   "cell_type": "code",
   "execution_count": 20,
   "metadata": {},
   "outputs": [
    {
     "name": "stdout",
     "output_type": "stream",
     "text": [
      "Trampki\n",
      "Zimowe\n",
      "Klapki\n",
      "Zimowe\n",
      "Codzienne\n",
      "Trampki\n",
      "Zimowe\n",
      "Zimowe\n",
      "Klapki\n",
      "Trampki\n",
      "Trampki\n",
      "Trampki\n",
      "Trampki\n",
      "Pantofle\n",
      "Pantofle\n",
      "Codzienne\n",
      "Pantofle\n",
      "Klapki\n",
      "Klapki\n",
      "Klapki\n",
      "Codzienne\n",
      "Codzienne\n",
      "Pantofle\n",
      "Pantofle\n",
      "Codzienne\n",
      "Codzienne\n",
      "Klapki\n",
      "Zimowe\n",
      "Pantofle\n",
      "Zimowe\n",
      "[('Trampki', <PIL.PngImagePlugin.PngImageFile image mode=L size=128x128 at 0x7FB73B2485F8>), ('Zimowe', <PIL.PngImagePlugin.PngImageFile image mode=L size=128x128 at 0x7FB73B248080>), ('Klapki', <PIL.PngImagePlugin.PngImageFile image mode=L size=128x128 at 0x7FB73B248BA8>), ('Zimowe', <PIL.PngImagePlugin.PngImageFile image mode=L size=128x128 at 0x7FB73B248748>), ('Codzienne', <PIL.PngImagePlugin.PngImageFile image mode=L size=128x128 at 0x7FB73B2480F0>), ('Trampki', <PIL.PngImagePlugin.PngImageFile image mode=L size=128x128 at 0x7FB73B248160>), ('Zimowe', <PIL.PngImagePlugin.PngImageFile image mode=L size=128x128 at 0x7FB73B248C88>), ('Zimowe', <PIL.PngImagePlugin.PngImageFile image mode=L size=128x128 at 0x7FB73B236F98>), ('Klapki', <PIL.PngImagePlugin.PngImageFile image mode=L size=128x128 at 0x7FB778652630>), ('Trampki', <PIL.PngImagePlugin.PngImageFile image mode=L size=128x128 at 0x7FB778652438>), ('Trampki', <PIL.PngImagePlugin.PngImageFile image mode=L size=128x128 at 0x7FB778652D30>), ('Trampki', <PIL.PngImagePlugin.PngImageFile image mode=L size=128x128 at 0x7FB73B248588>), ('Trampki', <PIL.PngImagePlugin.PngImageFile image mode=L size=128x128 at 0x7FB73B1EF0F0>), ('Pantofle', <PIL.PngImagePlugin.PngImageFile image mode=L size=128x128 at 0x7FB73B1EF0B8>), ('Pantofle', <PIL.PngImagePlugin.PngImageFile image mode=L size=128x128 at 0x7FB73B1EF2E8>), ('Codzienne', <PIL.PngImagePlugin.PngImageFile image mode=L size=128x128 at 0x7FB73B1EFE48>), ('Pantofle', <PIL.PngImagePlugin.PngImageFile image mode=L size=128x128 at 0x7FB73B1EF320>), ('Klapki', <PIL.PngImagePlugin.PngImageFile image mode=L size=128x128 at 0x7FB73B1EF6D8>), ('Klapki', <PIL.PngImagePlugin.PngImageFile image mode=L size=128x128 at 0x7FB73B1EF470>), ('Klapki', <PIL.PngImagePlugin.PngImageFile image mode=L size=128x128 at 0x7FB73B1EF908>), ('Codzienne', <PIL.PngImagePlugin.PngImageFile image mode=L size=128x128 at 0x7FB73B1EF828>), ('Codzienne', <PIL.PngImagePlugin.PngImageFile image mode=L size=128x128 at 0x7FB73B1EF9B0>), ('Pantofle', <PIL.PngImagePlugin.PngImageFile image mode=L size=128x128 at 0x7FB73B1EFBA8>), ('Pantofle', <PIL.PngImagePlugin.PngImageFile image mode=L size=128x128 at 0x7FB73B1EFA20>), ('Codzienne', <PIL.PngImagePlugin.PngImageFile image mode=L size=128x128 at 0x7FB73B1EFB38>), ('Codzienne', <PIL.PngImagePlugin.PngImageFile image mode=L size=128x128 at 0x7FB73B1EFAC8>), ('Klapki', <PIL.PngImagePlugin.PngImageFile image mode=L size=128x128 at 0x7FB73B1EF978>), ('Zimowe', <PIL.PngImagePlugin.PngImageFile image mode=L size=128x128 at 0x7FB73B1EFC88>), ('Pantofle', <PIL.PngImagePlugin.PngImageFile image mode=L size=128x128 at 0x7FB73B1EFCF8>), ('Zimowe', <PIL.PngImagePlugin.PngImageFile image mode=L size=128x128 at 0x7FB73B1EFDD8>)]\n"
     ]
    }
   ],
   "source": [
    "load_dataset()"
   ]
  },
  {
   "cell_type": "code",
   "execution_count": null,
   "metadata": {},
   "outputs": [],
   "source": []
  }
 ],
 "metadata": {
  "kernelspec": {
   "display_name": "Python 3",
   "language": "python",
   "name": "python3"
  },
  "language_info": {
   "codemirror_mode": {
    "name": "ipython",
    "version": 3
   },
   "file_extension": ".py",
   "mimetype": "text/x-python",
   "name": "python",
   "nbconvert_exporter": "python",
   "pygments_lexer": "ipython3",
   "version": "3.6.9"
  }
 },
 "nbformat": 4,
 "nbformat_minor": 2
}
