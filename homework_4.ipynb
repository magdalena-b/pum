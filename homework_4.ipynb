{
 "cells": [
  {
   "cell_type": "code",
   "execution_count": 1,
   "metadata": {},
   "outputs": [],
   "source": [
    "import pandas\n",
    "import sklearn\n",
    "from sklearn.cluster import KMeans\n",
    "import numpy as np\n",
    "import matplotlib.pyplot as plt\n",
    "import collections\n",
    "from tabulate import tabulate\n",
    "from sklearn.decomposition import PCA"
   ]
  },
  {
   "cell_type": "code",
   "execution_count": 2,
   "metadata": {
    "scrolled": false
   },
   "outputs": [
    {
     "name": "stdout",
     "output_type": "stream",
     "text": [
      "               Category                                               Item  \\\n",
      "0             Breakfast                                       Egg McMuffin   \n",
      "1             Breakfast                                  Egg White Delight   \n",
      "2             Breakfast                                   Sausage McMuffin   \n",
      "3             Breakfast                          Sausage McMuffin with Egg   \n",
      "4             Breakfast                   Sausage McMuffin with Egg Whites   \n",
      "..                  ...                                                ...   \n",
      "255  Smoothies & Shakes                 McFlurry with Oreo Cookies (Small)   \n",
      "256  Smoothies & Shakes                McFlurry with Oreo Cookies (Medium)   \n",
      "257  Smoothies & Shakes                 McFlurry with Oreo Cookies (Snack)   \n",
      "258  Smoothies & Shakes  McFlurry with Reese's Peanut Butter Cups (Medium)   \n",
      "259  Smoothies & Shakes   McFlurry with Reese's Peanut Butter Cups (Snack)   \n",
      "\n",
      "        Serving Size  Calories  Calories from Fat  Total Fat  \\\n",
      "0     4.8 oz (136 g)       300                120       13.0   \n",
      "1     4.8 oz (135 g)       250                 70        8.0   \n",
      "2     3.9 oz (111 g)       370                200       23.0   \n",
      "3     5.7 oz (161 g)       450                250       28.0   \n",
      "4     5.7 oz (161 g)       400                210       23.0   \n",
      "..               ...       ...                ...        ...   \n",
      "255  10.1 oz (285 g)       510                150       17.0   \n",
      "256  13.4 oz (381 g)       690                200       23.0   \n",
      "257   6.7 oz (190 g)       340                100       11.0   \n",
      "258  14.2 oz (403 g)       810                290       32.0   \n",
      "259   7.1 oz (202 g)       410                150       16.0   \n",
      "\n",
      "     Total Fat (% Daily Value)  Saturated Fat  Saturated Fat (% Daily Value)  \\\n",
      "0                           20            5.0                             25   \n",
      "1                           12            3.0                             15   \n",
      "2                           35            8.0                             42   \n",
      "3                           43           10.0                             52   \n",
      "4                           35            8.0                             42   \n",
      "..                         ...            ...                            ...   \n",
      "255                         26            9.0                             44   \n",
      "256                         35           12.0                             58   \n",
      "257                         17            6.0                             29   \n",
      "258                         50           15.0                             76   \n",
      "259                         25            8.0                             38   \n",
      "\n",
      "     Trans Fat  ...  Carbohydrates  Carbohydrates (% Daily Value)  \\\n",
      "0          0.0  ...             31                             10   \n",
      "1          0.0  ...             30                             10   \n",
      "2          0.0  ...             29                             10   \n",
      "3          0.0  ...             30                             10   \n",
      "4          0.0  ...             30                             10   \n",
      "..         ...  ...            ...                            ...   \n",
      "255        0.5  ...             80                             27   \n",
      "256        1.0  ...            106                             35   \n",
      "257        0.0  ...             53                             18   \n",
      "258        1.0  ...            114                             38   \n",
      "259        0.0  ...             57                             19   \n",
      "\n",
      "     Dietary Fiber  Dietary Fiber (% Daily Value)  Sugars  Protein  \\\n",
      "0                4                             17       3       17   \n",
      "1                4                             17       3       18   \n",
      "2                4                             17       2       14   \n",
      "3                4                             17       2       21   \n",
      "4                4                             17       2       21   \n",
      "..             ...                            ...     ...      ...   \n",
      "255              1                              4      64       12   \n",
      "256              1                              5      85       15   \n",
      "257              1                              2      43        8   \n",
      "258              2                              9     103       21   \n",
      "259              1                              5      51       10   \n",
      "\n",
      "     Vitamin A (% Daily Value)  Vitamin C (% Daily Value)  \\\n",
      "0                           10                          0   \n",
      "1                            6                          0   \n",
      "2                            8                          0   \n",
      "3                           15                          0   \n",
      "4                            6                          0   \n",
      "..                         ...                        ...   \n",
      "255                         15                          0   \n",
      "256                         20                          0   \n",
      "257                         10                          0   \n",
      "258                         20                          0   \n",
      "259                         10                          0   \n",
      "\n",
      "     Calcium (% Daily Value)  Iron (% Daily Value)  \n",
      "0                         25                    15  \n",
      "1                         25                     8  \n",
      "2                         25                    10  \n",
      "3                         30                    15  \n",
      "4                         25                    10  \n",
      "..                       ...                   ...  \n",
      "255                       40                     8  \n",
      "256                       50                    10  \n",
      "257                       25                     6  \n",
      "258                       60                     6  \n",
      "259                       30                     4  \n",
      "\n",
      "[260 rows x 24 columns]\n"
     ]
    }
   ],
   "source": [
    "df = pandas.read_csv(\"menu.csv\")\n",
    "print(df)"
   ]
  },
  {
   "cell_type": "code",
   "execution_count": 3,
   "metadata": {},
   "outputs": [],
   "source": [
    "labels = []\n",
    "for c in df['Category']:\n",
    "    labels.append(c)"
   ]
  },
  {
   "cell_type": "code",
   "execution_count": 4,
   "metadata": {},
   "outputs": [
    {
     "name": "stdout",
     "output_type": "stream",
     "text": [
      "['Breakfast', 'Breakfast', 'Breakfast', 'Breakfast', 'Breakfast', 'Breakfast', 'Breakfast', 'Breakfast', 'Breakfast', 'Breakfast', 'Breakfast', 'Breakfast', 'Breakfast', 'Breakfast', 'Breakfast', 'Breakfast', 'Breakfast', 'Breakfast', 'Breakfast', 'Breakfast', 'Breakfast', 'Breakfast', 'Breakfast', 'Breakfast', 'Breakfast', 'Breakfast', 'Breakfast', 'Breakfast', 'Breakfast', 'Breakfast', 'Breakfast', 'Breakfast', 'Breakfast', 'Breakfast', 'Breakfast', 'Breakfast', 'Breakfast', 'Breakfast', 'Breakfast', 'Breakfast', 'Breakfast', 'Breakfast', 'Beef & Pork', 'Beef & Pork', 'Beef & Pork', 'Beef & Pork', 'Beef & Pork', 'Beef & Pork', 'Beef & Pork', 'Beef & Pork', 'Beef & Pork', 'Beef & Pork', 'Beef & Pork', 'Beef & Pork', 'Beef & Pork', 'Beef & Pork', 'Beef & Pork', 'Chicken & Fish', 'Chicken & Fish', 'Chicken & Fish', 'Chicken & Fish', 'Chicken & Fish', 'Chicken & Fish', 'Chicken & Fish', 'Chicken & Fish', 'Chicken & Fish', 'Chicken & Fish', 'Chicken & Fish', 'Chicken & Fish', 'Chicken & Fish', 'Chicken & Fish', 'Chicken & Fish', 'Chicken & Fish', 'Chicken & Fish', 'Chicken & Fish', 'Chicken & Fish', 'Chicken & Fish', 'Chicken & Fish', 'Chicken & Fish', 'Chicken & Fish', 'Chicken & Fish', 'Chicken & Fish', 'Chicken & Fish', 'Chicken & Fish', 'Salads', 'Salads', 'Salads', 'Salads', 'Salads', 'Salads', 'Snacks & Sides', 'Snacks & Sides', 'Snacks & Sides', 'Snacks & Sides', 'Snacks & Sides', 'Snacks & Sides', 'Snacks & Sides', 'Snacks & Sides', 'Snacks & Sides', 'Snacks & Sides', 'Snacks & Sides', 'Snacks & Sides', 'Snacks & Sides', 'Desserts', 'Desserts', 'Desserts', 'Desserts', 'Desserts', 'Desserts', 'Desserts', 'Beverages', 'Beverages', 'Beverages', 'Beverages', 'Beverages', 'Beverages', 'Beverages', 'Beverages', 'Beverages', 'Beverages', 'Beverages', 'Beverages', 'Beverages', 'Beverages', 'Beverages', 'Beverages', 'Beverages', 'Beverages', 'Beverages', 'Beverages', 'Beverages', 'Beverages', 'Beverages', 'Beverages', 'Beverages', 'Beverages', 'Beverages', 'Coffee & Tea', 'Coffee & Tea', 'Coffee & Tea', 'Coffee & Tea', 'Coffee & Tea', 'Coffee & Tea', 'Coffee & Tea', 'Coffee & Tea', 'Coffee & Tea', 'Coffee & Tea', 'Coffee & Tea', 'Coffee & Tea', 'Coffee & Tea', 'Coffee & Tea', 'Coffee & Tea', 'Coffee & Tea', 'Coffee & Tea', 'Coffee & Tea', 'Coffee & Tea', 'Coffee & Tea', 'Coffee & Tea', 'Coffee & Tea', 'Coffee & Tea', 'Coffee & Tea', 'Coffee & Tea', 'Coffee & Tea', 'Coffee & Tea', 'Coffee & Tea', 'Coffee & Tea', 'Coffee & Tea', 'Coffee & Tea', 'Coffee & Tea', 'Coffee & Tea', 'Coffee & Tea', 'Coffee & Tea', 'Coffee & Tea', 'Coffee & Tea', 'Coffee & Tea', 'Coffee & Tea', 'Coffee & Tea', 'Coffee & Tea', 'Coffee & Tea', 'Coffee & Tea', 'Coffee & Tea', 'Coffee & Tea', 'Coffee & Tea', 'Coffee & Tea', 'Coffee & Tea', 'Coffee & Tea', 'Coffee & Tea', 'Coffee & Tea', 'Coffee & Tea', 'Coffee & Tea', 'Coffee & Tea', 'Coffee & Tea', 'Coffee & Tea', 'Coffee & Tea', 'Coffee & Tea', 'Coffee & Tea', 'Coffee & Tea', 'Coffee & Tea', 'Coffee & Tea', 'Coffee & Tea', 'Coffee & Tea', 'Coffee & Tea', 'Coffee & Tea', 'Coffee & Tea', 'Coffee & Tea', 'Coffee & Tea', 'Coffee & Tea', 'Coffee & Tea', 'Coffee & Tea', 'Coffee & Tea', 'Coffee & Tea', 'Coffee & Tea', 'Coffee & Tea', 'Coffee & Tea', 'Coffee & Tea', 'Coffee & Tea', 'Coffee & Tea', 'Coffee & Tea', 'Coffee & Tea', 'Coffee & Tea', 'Coffee & Tea', 'Coffee & Tea', 'Coffee & Tea', 'Coffee & Tea', 'Coffee & Tea', 'Coffee & Tea', 'Coffee & Tea', 'Coffee & Tea', 'Coffee & Tea', 'Coffee & Tea', 'Coffee & Tea', 'Coffee & Tea', 'Smoothies & Shakes', 'Smoothies & Shakes', 'Smoothies & Shakes', 'Smoothies & Shakes', 'Smoothies & Shakes', 'Smoothies & Shakes', 'Smoothies & Shakes', 'Smoothies & Shakes', 'Smoothies & Shakes', 'Smoothies & Shakes', 'Smoothies & Shakes', 'Smoothies & Shakes', 'Smoothies & Shakes', 'Smoothies & Shakes', 'Smoothies & Shakes', 'Smoothies & Shakes', 'Smoothies & Shakes', 'Smoothies & Shakes', 'Smoothies & Shakes', 'Smoothies & Shakes', 'Smoothies & Shakes', 'Smoothies & Shakes', 'Smoothies & Shakes', 'Smoothies & Shakes', 'Smoothies & Shakes', 'Smoothies & Shakes', 'Smoothies & Shakes', 'Smoothies & Shakes']\n"
     ]
    }
   ],
   "source": [
    "print( labels)"
   ]
  },
  {
   "cell_type": "markdown",
   "metadata": {},
   "source": [
    "Delete category and item columns"
   ]
  },
  {
   "cell_type": "code",
   "execution_count": 5,
   "metadata": {},
   "outputs": [
    {
     "data": {
      "text/plain": [
       "0      4\n",
       "1      4\n",
       "2      4\n",
       "3      4\n",
       "4      4\n",
       "      ..\n",
       "255    1\n",
       "256    1\n",
       "257    1\n",
       "258    2\n",
       "259    1\n",
       "Name: Dietary Fiber, Length: 260, dtype: int64"
      ]
     },
     "execution_count": 5,
     "metadata": {},
     "output_type": "execute_result"
    }
   ],
   "source": [
    "df.pop(\"Category\")\n",
    "df.pop(\"Item\")\n",
    "df.pop(\"Serving Size\")\n",
    "\n",
    "df.pop(\"Total Fat\")\n",
    "df.pop(\"Saturated Fat\")\n",
    "df.pop(\"Cholesterol\")\n",
    "df.pop(\"Sodium\")\n",
    "df.pop(\"Carbohydrates\")\n",
    "df.pop(\"Dietary Fiber\")"
   ]
  },
  {
   "cell_type": "code",
   "execution_count": 6,
   "metadata": {},
   "outputs": [
    {
     "name": "stdout",
     "output_type": "stream",
     "text": [
      "     Calories  Calories from Fat  Total Fat (% Daily Value)  \\\n",
      "0         300                120                         20   \n",
      "1         250                 70                         12   \n",
      "2         370                200                         35   \n",
      "3         450                250                         43   \n",
      "4         400                210                         35   \n",
      "..        ...                ...                        ...   \n",
      "255       510                150                         26   \n",
      "256       690                200                         35   \n",
      "257       340                100                         17   \n",
      "258       810                290                         50   \n",
      "259       410                150                         25   \n",
      "\n",
      "     Saturated Fat (% Daily Value)  Trans Fat  Cholesterol (% Daily Value)  \\\n",
      "0                               25        0.0                           87   \n",
      "1                               15        0.0                            8   \n",
      "2                               42        0.0                           15   \n",
      "3                               52        0.0                           95   \n",
      "4                               42        0.0                           16   \n",
      "..                             ...        ...                          ...   \n",
      "255                             44        0.5                           14   \n",
      "256                             58        1.0                           19   \n",
      "257                             29        0.0                            9   \n",
      "258                             76        1.0                           20   \n",
      "259                             38        0.0                           10   \n",
      "\n",
      "     Sodium (% Daily Value)  Carbohydrates (% Daily Value)  \\\n",
      "0                        31                             10   \n",
      "1                        32                             10   \n",
      "2                        33                             10   \n",
      "3                        36                             10   \n",
      "4                        37                             10   \n",
      "..                      ...                            ...   \n",
      "255                      12                             27   \n",
      "256                      16                             35   \n",
      "257                       8                             18   \n",
      "258                      17                             38   \n",
      "259                       8                             19   \n",
      "\n",
      "     Dietary Fiber (% Daily Value)  Sugars  Protein  \\\n",
      "0                               17       3       17   \n",
      "1                               17       3       18   \n",
      "2                               17       2       14   \n",
      "3                               17       2       21   \n",
      "4                               17       2       21   \n",
      "..                             ...     ...      ...   \n",
      "255                              4      64       12   \n",
      "256                              5      85       15   \n",
      "257                              2      43        8   \n",
      "258                              9     103       21   \n",
      "259                              5      51       10   \n",
      "\n",
      "     Vitamin A (% Daily Value)  Vitamin C (% Daily Value)  \\\n",
      "0                           10                          0   \n",
      "1                            6                          0   \n",
      "2                            8                          0   \n",
      "3                           15                          0   \n",
      "4                            6                          0   \n",
      "..                         ...                        ...   \n",
      "255                         15                          0   \n",
      "256                         20                          0   \n",
      "257                         10                          0   \n",
      "258                         20                          0   \n",
      "259                         10                          0   \n",
      "\n",
      "     Calcium (% Daily Value)  Iron (% Daily Value)  \n",
      "0                         25                    15  \n",
      "1                         25                     8  \n",
      "2                         25                    10  \n",
      "3                         30                    15  \n",
      "4                         25                    10  \n",
      "..                       ...                   ...  \n",
      "255                       40                     8  \n",
      "256                       50                    10  \n",
      "257                       25                     6  \n",
      "258                       60                     6  \n",
      "259                       30                     4  \n",
      "\n",
      "[260 rows x 15 columns]\n"
     ]
    }
   ],
   "source": [
    "print(df)"
   ]
  },
  {
   "cell_type": "code",
   "execution_count": 7,
   "metadata": {},
   "outputs": [],
   "source": [
    "df_normalized = ((df-df.min())/(df.max()-df.min()))*10"
   ]
  },
  {
   "cell_type": "code",
   "execution_count": 8,
   "metadata": {
    "scrolled": true
   },
   "outputs": [
    {
     "name": "stdout",
     "output_type": "stream",
     "text": [
      "     Calories  Calories from Fat  Total Fat (% Daily Value)  \\\n",
      "0    1.595745           1.132075                   1.098901   \n",
      "1    1.329787           0.660377                   0.659341   \n",
      "2    1.968085           1.886792                   1.923077   \n",
      "3    2.393617           2.358491                   2.362637   \n",
      "4    2.127660           1.981132                   1.923077   \n",
      "..        ...                ...                        ...   \n",
      "255  2.712766           1.415094                   1.428571   \n",
      "256  3.670213           1.886792                   1.923077   \n",
      "257  1.808511           0.943396                   0.934066   \n",
      "258  4.308511           2.735849                   2.747253   \n",
      "259  2.180851           1.415094                   1.373626   \n",
      "\n",
      "     Saturated Fat (% Daily Value)  Trans Fat  Cholesterol (% Daily Value)  \\\n",
      "0                         2.450980        0.0                     4.531250   \n",
      "1                         1.470588        0.0                     0.416667   \n",
      "2                         4.117647        0.0                     0.781250   \n",
      "3                         5.098039        0.0                     4.947917   \n",
      "4                         4.117647        0.0                     0.833333   \n",
      "..                             ...        ...                          ...   \n",
      "255                       4.313725        2.0                     0.729167   \n",
      "256                       5.686275        4.0                     0.989583   \n",
      "257                       2.843137        0.0                     0.468750   \n",
      "258                       7.450980        4.0                     1.041667   \n",
      "259                       3.725490        0.0                     0.520833   \n",
      "\n",
      "     Sodium (% Daily Value)  Carbohydrates (% Daily Value)  \\\n",
      "0                  2.066667                       2.127660   \n",
      "1                  2.133333                       2.127660   \n",
      "2                  2.200000                       2.127660   \n",
      "3                  2.400000                       2.127660   \n",
      "4                  2.466667                       2.127660   \n",
      "..                      ...                            ...   \n",
      "255                0.800000                       5.744681   \n",
      "256                1.066667                       7.446809   \n",
      "257                0.533333                       3.829787   \n",
      "258                1.133333                       8.085106   \n",
      "259                0.533333                       4.042553   \n",
      "\n",
      "     Dietary Fiber (% Daily Value)    Sugars   Protein  \\\n",
      "0                         6.071429  0.234375  1.954023   \n",
      "1                         6.071429  0.234375  2.068966   \n",
      "2                         6.071429  0.156250  1.609195   \n",
      "3                         6.071429  0.156250  2.413793   \n",
      "4                         6.071429  0.156250  2.413793   \n",
      "..                             ...       ...       ...   \n",
      "255                       1.428571  5.000000  1.379310   \n",
      "256                       1.785714  6.640625  1.724138   \n",
      "257                       0.714286  3.359375  0.919540   \n",
      "258                       3.214286  8.046875  2.413793   \n",
      "259                       1.785714  3.984375  1.149425   \n",
      "\n",
      "     Vitamin A (% Daily Value)  Vitamin C (% Daily Value)  \\\n",
      "0                     0.588235                        0.0   \n",
      "1                     0.352941                        0.0   \n",
      "2                     0.470588                        0.0   \n",
      "3                     0.882353                        0.0   \n",
      "4                     0.352941                        0.0   \n",
      "..                         ...                        ...   \n",
      "255                   0.882353                        0.0   \n",
      "256                   1.176471                        0.0   \n",
      "257                   0.588235                        0.0   \n",
      "258                   1.176471                        0.0   \n",
      "259                   0.588235                        0.0   \n",
      "\n",
      "     Calcium (% Daily Value)  Iron (% Daily Value)  \n",
      "0                   3.571429                  3.75  \n",
      "1                   3.571429                  2.00  \n",
      "2                   3.571429                  2.50  \n",
      "3                   4.285714                  3.75  \n",
      "4                   3.571429                  2.50  \n",
      "..                       ...                   ...  \n",
      "255                 5.714286                  2.00  \n",
      "256                 7.142857                  2.50  \n",
      "257                 3.571429                  1.50  \n",
      "258                 8.571429                  1.50  \n",
      "259                 4.285714                  1.00  \n",
      "\n",
      "[260 rows x 15 columns]\n"
     ]
    }
   ],
   "source": [
    "print(df_normalized)"
   ]
  },
  {
   "cell_type": "markdown",
   "metadata": {},
   "source": [
    "K-Means Clustering"
   ]
  },
  {
   "cell_type": "code",
   "execution_count": 9,
   "metadata": {},
   "outputs": [],
   "source": [
    "X = df_normalized.values"
   ]
  },
  {
   "cell_type": "code",
   "execution_count": 10,
   "metadata": {},
   "outputs": [
    {
     "name": "stdout",
     "output_type": "stream",
     "text": [
      "[[1.59574468 1.13207547 1.0989011  ... 0.         3.57142857 3.75      ]\n",
      " [1.32978723 0.66037736 0.65934066 ... 0.         3.57142857 2.        ]\n",
      " [1.96808511 1.88679245 1.92307692 ... 0.         3.57142857 2.5       ]\n",
      " ...\n",
      " [1.80851064 0.94339623 0.93406593 ... 0.         3.57142857 1.5       ]\n",
      " [4.30851064 2.73584906 2.74725275 ... 0.         8.57142857 1.5       ]\n",
      " [2.18085106 1.41509434 1.37362637 ... 0.         4.28571429 1.        ]]\n"
     ]
    }
   ],
   "source": [
    "print(X)"
   ]
  },
  {
   "cell_type": "code",
   "execution_count": 11,
   "metadata": {},
   "outputs": [
    {
     "name": "stdout",
     "output_type": "stream",
     "text": [
      "1.1777703690975776\n"
     ]
    }
   ],
   "source": [
    "kmeans = KMeans(n_clusters=5, init='k-means++')\n",
    "kmeans.fit(X)\n",
    "\n",
    "labels = kmeans.labels_\n",
    "score = sklearn.metrics.davies_bouldin_score(X, labels)\n",
    "print(score)"
   ]
  },
  {
   "cell_type": "markdown",
   "metadata": {},
   "source": [
    "kmeans++"
   ]
  },
  {
   "cell_type": "code",
   "execution_count": 12,
   "metadata": {},
   "outputs": [],
   "source": [
    "kmeans = KMeans(n_clusters=5, n_init=1, max_iter=1, init='k-means++')"
   ]
  },
  {
   "cell_type": "code",
   "execution_count": 13,
   "metadata": {},
   "outputs": [],
   "source": [
    "def train_kmeans(X, init):\n",
    "    kmeans = KMeans(n_clusters=5, n_init=1, max_iter=1, init=init)\n",
    "\n",
    "    state = None\n",
    "    i = 0\n",
    "    ys = []\n",
    "    while True:\n",
    "        kmeans.fit(X)\n",
    "\n",
    "        labels = kmeans.labels_\n",
    "        centroids = kmeans.cluster_centers_\n",
    "\n",
    "        if np.array_equal(state, labels):\n",
    "            break\n",
    "\n",
    "        kmeans.init = centroids\n",
    "        state = labels\n",
    "\n",
    "        inertia = kmeans.inertia_\n",
    "        score = sklearn.metrics.davies_bouldin_score(X, labels)\n",
    "        i += 1\n",
    "\n",
    "        ys.append(score)\n",
    "#         print(i, inertia, score)\n",
    "\n",
    "#     print('-' * 100, end='\\n\\n')\n",
    "\n",
    "    return ys"
   ]
  },
  {
   "cell_type": "code",
   "execution_count": 14,
   "metadata": {},
   "outputs": [
    {
     "data": {
      "text/plain": [
       "[1.0303721162146182, 1.0344999305476148, 1.0373262187027303]"
      ]
     },
     "execution_count": 14,
     "metadata": {},
     "output_type": "execute_result"
    }
   ],
   "source": [
    "train_kmeans(X, 'k-means++')"
   ]
  },
  {
   "cell_type": "code",
   "execution_count": 15,
   "metadata": {},
   "outputs": [
    {
     "data": {
      "text/plain": [
       "[1.544609634702584,\n",
       " 1.3411458413205177,\n",
       " 1.3385648125846026,\n",
       " 1.294255481587428,\n",
       " 1.2777636018632246,\n",
       " 1.2578635446902793,\n",
       " 1.2049175068837763,\n",
       " 1.1247788303414321,\n",
       " 1.053695872426173,\n",
       " 1.0704687487495768,\n",
       " 1.0750428523628002]"
      ]
     },
     "execution_count": 15,
     "metadata": {},
     "output_type": "execute_result"
    }
   ],
   "source": [
    "train_kmeans(X, 'random')"
   ]
  },
  {
   "cell_type": "code",
   "execution_count": 16,
   "metadata": {},
   "outputs": [
    {
     "data": {
      "text/plain": [
       "[1.436299936450512,\n",
       " 1.2753795773204395,\n",
       " 1.2136491010905652,\n",
       " 1.182213981181057,\n",
       " 1.1795208379936168,\n",
       " 1.1723141822217775,\n",
       " 1.1709171151305118]"
      ]
     },
     "execution_count": 16,
     "metadata": {},
     "output_type": "execute_result"
    }
   ],
   "source": [
    "init = np.random.uniform(0.0, 1.0, (5, X.shape[1]))\n",
    "train_kmeans(X, init)"
   ]
  },
  {
   "cell_type": "code",
   "execution_count": 17,
   "metadata": {},
   "outputs": [
    {
     "name": "stdout",
     "output_type": "stream",
     "text": [
      "24\n"
     ]
    }
   ],
   "source": [
    "plus_plus_max_iter = 0\n",
    "plus_plus_results = []\n",
    "plus_plus_mean = 0\n",
    "plus_plus_std = 0\n",
    "for i in range(50):\n",
    "    ys = train_kmeans(X, 'k-means++')\n",
    "    plus_plus_results.append(ys)\n",
    "    xs = len(ys)\n",
    "    plus_plus_max_iter = max(plus_plus_max_iter, xs)\n",
    "    \n",
    "\n",
    "\n",
    "xs = list(range(1, plus_plus_max_iter + 1))\n",
    "for j in range(50):\n",
    "    last = plus_plus_results[j][-1]\n",
    "    while len(plus_plus_results[j]) < plus_plus_max_iter:\n",
    "        plus_plus_results[j].append(last)\n",
    "    \n",
    "plus_plus_mean = np.mean(plus_plus_results, axis=0)\n",
    "plus_plus_std = np.std(plus_plus_results, axis=0)\n",
    "\n",
    "print(len(plus_plus_mean) )"
   ]
  },
  {
   "cell_type": "code",
   "execution_count": 18,
   "metadata": {},
   "outputs": [
    {
     "name": "stdout",
     "output_type": "stream",
     "text": [
      "21\n",
      "21\n"
     ]
    }
   ],
   "source": [
    "random_max_iter = 0\n",
    "random_results = []\n",
    "random_mean = 0\n",
    "random_std = 0\n",
    "\n",
    "for i in range(50):\n",
    "\n",
    "    ys = train_kmeans(X, 'random')\n",
    "    random_results.append(ys)\n",
    "    xs = len(ys)\n",
    "    random_max_iter = max(random_max_iter, xs)\n",
    "\n",
    "\n",
    "xs = list(range(1, random_max_iter + 1))\n",
    "for j in range(50):\n",
    "    last = random_results[j][-1]\n",
    "    while len(random_results[j]) < random_max_iter:\n",
    "        random_results[j].append(last)\n",
    "    \n",
    "random_mean = np.mean(random_results, axis=0)\n",
    "random_std = np.std(random_results, axis=0)\n",
    "\n",
    "print(len(random_mean) )\n",
    "print( len(random_std) )"
   ]
  },
  {
   "cell_type": "code",
   "execution_count": 19,
   "metadata": {},
   "outputs": [
    {
     "ename": "KeyboardInterrupt",
     "evalue": "",
     "output_type": "error",
     "traceback": [
      "\u001b[0;31m---------------------------------------------------------------------------\u001b[0m",
      "\u001b[0;31mKeyboardInterrupt\u001b[0m                         Traceback (most recent call last)",
      "\u001b[0;32m<ipython-input-19-51125253fd29>\u001b[0m in \u001b[0;36m<module>\u001b[0;34m()\u001b[0m\n\u001b[1;32m      7\u001b[0m \u001b[0;32mfor\u001b[0m \u001b[0mi\u001b[0m \u001b[0;32min\u001b[0m \u001b[0mrange\u001b[0m\u001b[0;34m(\u001b[0m\u001b[0;36m50\u001b[0m\u001b[0;34m)\u001b[0m\u001b[0;34m:\u001b[0m\u001b[0;34m\u001b[0m\u001b[0;34m\u001b[0m\u001b[0m\n\u001b[1;32m      8\u001b[0m     \u001b[0minit\u001b[0m \u001b[0;34m=\u001b[0m \u001b[0mnp\u001b[0m\u001b[0;34m.\u001b[0m\u001b[0mrandom\u001b[0m\u001b[0;34m.\u001b[0m\u001b[0muniform\u001b[0m\u001b[0;34m(\u001b[0m\u001b[0;36m0.0\u001b[0m\u001b[0;34m,\u001b[0m \u001b[0;36m1.0\u001b[0m\u001b[0;34m,\u001b[0m \u001b[0;34m(\u001b[0m\u001b[0;36m5\u001b[0m\u001b[0;34m,\u001b[0m \u001b[0mX\u001b[0m\u001b[0;34m.\u001b[0m\u001b[0mshape\u001b[0m\u001b[0;34m[\u001b[0m\u001b[0;36m1\u001b[0m\u001b[0;34m]\u001b[0m\u001b[0;34m)\u001b[0m\u001b[0;34m)\u001b[0m\u001b[0;34m\u001b[0m\u001b[0;34m\u001b[0m\u001b[0m\n\u001b[0;32m----> 9\u001b[0;31m     \u001b[0mys\u001b[0m \u001b[0;34m=\u001b[0m \u001b[0mtrain_kmeans\u001b[0m\u001b[0;34m(\u001b[0m\u001b[0mX\u001b[0m\u001b[0;34m,\u001b[0m \u001b[0minit\u001b[0m\u001b[0;34m)\u001b[0m\u001b[0;34m\u001b[0m\u001b[0;34m\u001b[0m\u001b[0m\n\u001b[0m\u001b[1;32m     10\u001b[0m     \u001b[0mtotal_random_results\u001b[0m\u001b[0;34m.\u001b[0m\u001b[0mappend\u001b[0m\u001b[0;34m(\u001b[0m\u001b[0mys\u001b[0m\u001b[0;34m)\u001b[0m\u001b[0;34m\u001b[0m\u001b[0;34m\u001b[0m\u001b[0m\n\u001b[1;32m     11\u001b[0m     \u001b[0mxs\u001b[0m \u001b[0;34m=\u001b[0m \u001b[0mlen\u001b[0m\u001b[0;34m(\u001b[0m\u001b[0mys\u001b[0m\u001b[0;34m)\u001b[0m\u001b[0;34m\u001b[0m\u001b[0;34m\u001b[0m\u001b[0m\n",
      "\u001b[0;32m<ipython-input-13-71473dec40cd>\u001b[0m in \u001b[0;36mtrain_kmeans\u001b[0;34m(X, init)\u001b[0m\n\u001b[1;32m     18\u001b[0m \u001b[0;34m\u001b[0m\u001b[0m\n\u001b[1;32m     19\u001b[0m         \u001b[0minertia\u001b[0m \u001b[0;34m=\u001b[0m \u001b[0mkmeans\u001b[0m\u001b[0;34m.\u001b[0m\u001b[0minertia_\u001b[0m\u001b[0;34m\u001b[0m\u001b[0;34m\u001b[0m\u001b[0m\n\u001b[0;32m---> 20\u001b[0;31m         \u001b[0mscore\u001b[0m \u001b[0;34m=\u001b[0m \u001b[0msklearn\u001b[0m\u001b[0;34m.\u001b[0m\u001b[0mmetrics\u001b[0m\u001b[0;34m.\u001b[0m\u001b[0mdavies_bouldin_score\u001b[0m\u001b[0;34m(\u001b[0m\u001b[0mX\u001b[0m\u001b[0;34m,\u001b[0m \u001b[0mlabels\u001b[0m\u001b[0;34m)\u001b[0m\u001b[0;34m\u001b[0m\u001b[0;34m\u001b[0m\u001b[0m\n\u001b[0m\u001b[1;32m     21\u001b[0m         \u001b[0mi\u001b[0m \u001b[0;34m+=\u001b[0m \u001b[0;36m1\u001b[0m\u001b[0;34m\u001b[0m\u001b[0;34m\u001b[0m\u001b[0m\n\u001b[1;32m     22\u001b[0m \u001b[0;34m\u001b[0m\u001b[0m\n",
      "\u001b[0;32m/usr/local/lib/python3.6/dist-packages/sklearn/metrics/cluster/_unsupervised.py\u001b[0m in \u001b[0;36mdavies_bouldin_score\u001b[0;34m(X, labels)\u001b[0m\n\u001b[1;32m    351\u001b[0m         \u001b[0mcentroids\u001b[0m\u001b[0;34m[\u001b[0m\u001b[0mk\u001b[0m\u001b[0;34m]\u001b[0m \u001b[0;34m=\u001b[0m \u001b[0mcentroid\u001b[0m\u001b[0;34m\u001b[0m\u001b[0;34m\u001b[0m\u001b[0m\n\u001b[1;32m    352\u001b[0m         intra_dists[k] = np.average(pairwise_distances(\n\u001b[0;32m--> 353\u001b[0;31m             cluster_k, [centroid]))\n\u001b[0m\u001b[1;32m    354\u001b[0m \u001b[0;34m\u001b[0m\u001b[0m\n\u001b[1;32m    355\u001b[0m     \u001b[0mcentroid_distances\u001b[0m \u001b[0;34m=\u001b[0m \u001b[0mpairwise_distances\u001b[0m\u001b[0;34m(\u001b[0m\u001b[0mcentroids\u001b[0m\u001b[0;34m)\u001b[0m\u001b[0;34m\u001b[0m\u001b[0;34m\u001b[0m\u001b[0m\n",
      "\u001b[0;32m/usr/local/lib/python3.6/dist-packages/sklearn/utils/validation.py\u001b[0m in \u001b[0;36minner_f\u001b[0;34m(*args, **kwargs)\u001b[0m\n\u001b[1;32m     61\u001b[0m             \u001b[0mextra_args\u001b[0m \u001b[0;34m=\u001b[0m \u001b[0mlen\u001b[0m\u001b[0;34m(\u001b[0m\u001b[0margs\u001b[0m\u001b[0;34m)\u001b[0m \u001b[0;34m-\u001b[0m \u001b[0mlen\u001b[0m\u001b[0;34m(\u001b[0m\u001b[0mall_args\u001b[0m\u001b[0;34m)\u001b[0m\u001b[0;34m\u001b[0m\u001b[0;34m\u001b[0m\u001b[0m\n\u001b[1;32m     62\u001b[0m             \u001b[0;32mif\u001b[0m \u001b[0mextra_args\u001b[0m \u001b[0;34m<=\u001b[0m \u001b[0;36m0\u001b[0m\u001b[0;34m:\u001b[0m\u001b[0;34m\u001b[0m\u001b[0;34m\u001b[0m\u001b[0m\n\u001b[0;32m---> 63\u001b[0;31m                 \u001b[0;32mreturn\u001b[0m \u001b[0mf\u001b[0m\u001b[0;34m(\u001b[0m\u001b[0;34m*\u001b[0m\u001b[0margs\u001b[0m\u001b[0;34m,\u001b[0m \u001b[0;34m**\u001b[0m\u001b[0mkwargs\u001b[0m\u001b[0;34m)\u001b[0m\u001b[0;34m\u001b[0m\u001b[0;34m\u001b[0m\u001b[0m\n\u001b[0m\u001b[1;32m     64\u001b[0m \u001b[0;34m\u001b[0m\u001b[0m\n\u001b[1;32m     65\u001b[0m             \u001b[0;31m# extra_args > 0\u001b[0m\u001b[0;34m\u001b[0m\u001b[0;34m\u001b[0m\u001b[0;34m\u001b[0m\u001b[0m\n",
      "\u001b[0;32m/usr/local/lib/python3.6/dist-packages/sklearn/metrics/pairwise.py\u001b[0m in \u001b[0;36mpairwise_distances\u001b[0;34m(X, Y, metric, n_jobs, force_all_finite, **kwds)\u001b[0m\n\u001b[1;32m   1788\u001b[0m         \u001b[0mfunc\u001b[0m \u001b[0;34m=\u001b[0m \u001b[0mpartial\u001b[0m\u001b[0;34m(\u001b[0m\u001b[0mdistance\u001b[0m\u001b[0;34m.\u001b[0m\u001b[0mcdist\u001b[0m\u001b[0;34m,\u001b[0m \u001b[0mmetric\u001b[0m\u001b[0;34m=\u001b[0m\u001b[0mmetric\u001b[0m\u001b[0;34m,\u001b[0m \u001b[0;34m**\u001b[0m\u001b[0mkwds\u001b[0m\u001b[0;34m)\u001b[0m\u001b[0;34m\u001b[0m\u001b[0;34m\u001b[0m\u001b[0m\n\u001b[1;32m   1789\u001b[0m \u001b[0;34m\u001b[0m\u001b[0m\n\u001b[0;32m-> 1790\u001b[0;31m     \u001b[0;32mreturn\u001b[0m \u001b[0m_parallel_pairwise\u001b[0m\u001b[0;34m(\u001b[0m\u001b[0mX\u001b[0m\u001b[0;34m,\u001b[0m \u001b[0mY\u001b[0m\u001b[0;34m,\u001b[0m \u001b[0mfunc\u001b[0m\u001b[0;34m,\u001b[0m \u001b[0mn_jobs\u001b[0m\u001b[0;34m,\u001b[0m \u001b[0;34m**\u001b[0m\u001b[0mkwds\u001b[0m\u001b[0;34m)\u001b[0m\u001b[0;34m\u001b[0m\u001b[0;34m\u001b[0m\u001b[0m\n\u001b[0m\u001b[1;32m   1791\u001b[0m \u001b[0;34m\u001b[0m\u001b[0m\n\u001b[1;32m   1792\u001b[0m \u001b[0;34m\u001b[0m\u001b[0m\n",
      "\u001b[0;32m/usr/local/lib/python3.6/dist-packages/sklearn/metrics/pairwise.py\u001b[0m in \u001b[0;36m_parallel_pairwise\u001b[0;34m(X, Y, func, n_jobs, **kwds)\u001b[0m\n\u001b[1;32m   1357\u001b[0m \u001b[0;34m\u001b[0m\u001b[0m\n\u001b[1;32m   1358\u001b[0m     \u001b[0;32mif\u001b[0m \u001b[0meffective_n_jobs\u001b[0m\u001b[0;34m(\u001b[0m\u001b[0mn_jobs\u001b[0m\u001b[0;34m)\u001b[0m \u001b[0;34m==\u001b[0m \u001b[0;36m1\u001b[0m\u001b[0;34m:\u001b[0m\u001b[0;34m\u001b[0m\u001b[0;34m\u001b[0m\u001b[0m\n\u001b[0;32m-> 1359\u001b[0;31m         \u001b[0;32mreturn\u001b[0m \u001b[0mfunc\u001b[0m\u001b[0;34m(\u001b[0m\u001b[0mX\u001b[0m\u001b[0;34m,\u001b[0m \u001b[0mY\u001b[0m\u001b[0;34m,\u001b[0m \u001b[0;34m**\u001b[0m\u001b[0mkwds\u001b[0m\u001b[0;34m)\u001b[0m\u001b[0;34m\u001b[0m\u001b[0;34m\u001b[0m\u001b[0m\n\u001b[0m\u001b[1;32m   1360\u001b[0m \u001b[0;34m\u001b[0m\u001b[0m\n\u001b[1;32m   1361\u001b[0m     \u001b[0;31m# enforce a threading backend to prevent data communication overhead\u001b[0m\u001b[0;34m\u001b[0m\u001b[0;34m\u001b[0m\u001b[0;34m\u001b[0m\u001b[0m\n",
      "\u001b[0;32m/usr/local/lib/python3.6/dist-packages/sklearn/utils/validation.py\u001b[0m in \u001b[0;36minner_f\u001b[0;34m(*args, **kwargs)\u001b[0m\n\u001b[1;32m     61\u001b[0m             \u001b[0mextra_args\u001b[0m \u001b[0;34m=\u001b[0m \u001b[0mlen\u001b[0m\u001b[0;34m(\u001b[0m\u001b[0margs\u001b[0m\u001b[0;34m)\u001b[0m \u001b[0;34m-\u001b[0m \u001b[0mlen\u001b[0m\u001b[0;34m(\u001b[0m\u001b[0mall_args\u001b[0m\u001b[0;34m)\u001b[0m\u001b[0;34m\u001b[0m\u001b[0;34m\u001b[0m\u001b[0m\n\u001b[1;32m     62\u001b[0m             \u001b[0;32mif\u001b[0m \u001b[0mextra_args\u001b[0m \u001b[0;34m<=\u001b[0m \u001b[0;36m0\u001b[0m\u001b[0;34m:\u001b[0m\u001b[0;34m\u001b[0m\u001b[0;34m\u001b[0m\u001b[0m\n\u001b[0;32m---> 63\u001b[0;31m                 \u001b[0;32mreturn\u001b[0m \u001b[0mf\u001b[0m\u001b[0;34m(\u001b[0m\u001b[0;34m*\u001b[0m\u001b[0margs\u001b[0m\u001b[0;34m,\u001b[0m \u001b[0;34m**\u001b[0m\u001b[0mkwargs\u001b[0m\u001b[0;34m)\u001b[0m\u001b[0;34m\u001b[0m\u001b[0;34m\u001b[0m\u001b[0m\n\u001b[0m\u001b[1;32m     64\u001b[0m \u001b[0;34m\u001b[0m\u001b[0m\n\u001b[1;32m     65\u001b[0m             \u001b[0;31m# extra_args > 0\u001b[0m\u001b[0;34m\u001b[0m\u001b[0;34m\u001b[0m\u001b[0;34m\u001b[0m\u001b[0m\n",
      "\u001b[0;32m/usr/local/lib/python3.6/dist-packages/sklearn/metrics/pairwise.py\u001b[0m in \u001b[0;36meuclidean_distances\u001b[0;34m(X, Y, Y_norm_squared, squared, X_norm_squared)\u001b[0m\n\u001b[1;32m    270\u001b[0m            [1.41421356]])\n\u001b[1;32m    271\u001b[0m     \"\"\"\n\u001b[0;32m--> 272\u001b[0;31m     \u001b[0mX\u001b[0m\u001b[0;34m,\u001b[0m \u001b[0mY\u001b[0m \u001b[0;34m=\u001b[0m \u001b[0mcheck_pairwise_arrays\u001b[0m\u001b[0;34m(\u001b[0m\u001b[0mX\u001b[0m\u001b[0;34m,\u001b[0m \u001b[0mY\u001b[0m\u001b[0;34m)\u001b[0m\u001b[0;34m\u001b[0m\u001b[0;34m\u001b[0m\u001b[0m\n\u001b[0m\u001b[1;32m    273\u001b[0m \u001b[0;34m\u001b[0m\u001b[0m\n\u001b[1;32m    274\u001b[0m     \u001b[0;31m# If norms are passed as float32, they are unused. If arrays are passed as\u001b[0m\u001b[0;34m\u001b[0m\u001b[0;34m\u001b[0m\u001b[0;34m\u001b[0m\u001b[0m\n",
      "\u001b[0;32m/usr/local/lib/python3.6/dist-packages/sklearn/utils/validation.py\u001b[0m in \u001b[0;36minner_f\u001b[0;34m(*args, **kwargs)\u001b[0m\n\u001b[1;32m     61\u001b[0m             \u001b[0mextra_args\u001b[0m \u001b[0;34m=\u001b[0m \u001b[0mlen\u001b[0m\u001b[0;34m(\u001b[0m\u001b[0margs\u001b[0m\u001b[0;34m)\u001b[0m \u001b[0;34m-\u001b[0m \u001b[0mlen\u001b[0m\u001b[0;34m(\u001b[0m\u001b[0mall_args\u001b[0m\u001b[0;34m)\u001b[0m\u001b[0;34m\u001b[0m\u001b[0;34m\u001b[0m\u001b[0m\n\u001b[1;32m     62\u001b[0m             \u001b[0;32mif\u001b[0m \u001b[0mextra_args\u001b[0m \u001b[0;34m<=\u001b[0m \u001b[0;36m0\u001b[0m\u001b[0;34m:\u001b[0m\u001b[0;34m\u001b[0m\u001b[0;34m\u001b[0m\u001b[0m\n\u001b[0;32m---> 63\u001b[0;31m                 \u001b[0;32mreturn\u001b[0m \u001b[0mf\u001b[0m\u001b[0;34m(\u001b[0m\u001b[0;34m*\u001b[0m\u001b[0margs\u001b[0m\u001b[0;34m,\u001b[0m \u001b[0;34m**\u001b[0m\u001b[0mkwargs\u001b[0m\u001b[0;34m)\u001b[0m\u001b[0;34m\u001b[0m\u001b[0;34m\u001b[0m\u001b[0m\n\u001b[0m\u001b[1;32m     64\u001b[0m \u001b[0;34m\u001b[0m\u001b[0m\n\u001b[1;32m     65\u001b[0m             \u001b[0;31m# extra_args > 0\u001b[0m\u001b[0;34m\u001b[0m\u001b[0;34m\u001b[0m\u001b[0;34m\u001b[0m\u001b[0m\n",
      "\u001b[0;32m/usr/local/lib/python3.6/dist-packages/sklearn/metrics/pairwise.py\u001b[0m in \u001b[0;36mcheck_pairwise_arrays\u001b[0;34m(X, Y, precomputed, dtype, accept_sparse, force_all_finite, copy)\u001b[0m\n\u001b[1;32m    146\u001b[0m         X = check_array(X, accept_sparse=accept_sparse, dtype=dtype,\n\u001b[1;32m    147\u001b[0m                         \u001b[0mcopy\u001b[0m\u001b[0;34m=\u001b[0m\u001b[0mcopy\u001b[0m\u001b[0;34m,\u001b[0m \u001b[0mforce_all_finite\u001b[0m\u001b[0;34m=\u001b[0m\u001b[0mforce_all_finite\u001b[0m\u001b[0;34m,\u001b[0m\u001b[0;34m\u001b[0m\u001b[0;34m\u001b[0m\u001b[0m\n\u001b[0;32m--> 148\u001b[0;31m                         estimator=estimator)\n\u001b[0m\u001b[1;32m    149\u001b[0m         Y = check_array(Y, accept_sparse=accept_sparse, dtype=dtype,\n\u001b[1;32m    150\u001b[0m                         \u001b[0mcopy\u001b[0m\u001b[0;34m=\u001b[0m\u001b[0mcopy\u001b[0m\u001b[0;34m,\u001b[0m \u001b[0mforce_all_finite\u001b[0m\u001b[0;34m=\u001b[0m\u001b[0mforce_all_finite\u001b[0m\u001b[0;34m,\u001b[0m\u001b[0;34m\u001b[0m\u001b[0;34m\u001b[0m\u001b[0m\n",
      "\u001b[0;32m/usr/local/lib/python3.6/dist-packages/sklearn/utils/validation.py\u001b[0m in \u001b[0;36minner_f\u001b[0;34m(*args, **kwargs)\u001b[0m\n\u001b[1;32m     61\u001b[0m             \u001b[0mextra_args\u001b[0m \u001b[0;34m=\u001b[0m \u001b[0mlen\u001b[0m\u001b[0;34m(\u001b[0m\u001b[0margs\u001b[0m\u001b[0;34m)\u001b[0m \u001b[0;34m-\u001b[0m \u001b[0mlen\u001b[0m\u001b[0;34m(\u001b[0m\u001b[0mall_args\u001b[0m\u001b[0;34m)\u001b[0m\u001b[0;34m\u001b[0m\u001b[0;34m\u001b[0m\u001b[0m\n\u001b[1;32m     62\u001b[0m             \u001b[0;32mif\u001b[0m \u001b[0mextra_args\u001b[0m \u001b[0;34m<=\u001b[0m \u001b[0;36m0\u001b[0m\u001b[0;34m:\u001b[0m\u001b[0;34m\u001b[0m\u001b[0;34m\u001b[0m\u001b[0m\n\u001b[0;32m---> 63\u001b[0;31m                 \u001b[0;32mreturn\u001b[0m \u001b[0mf\u001b[0m\u001b[0;34m(\u001b[0m\u001b[0;34m*\u001b[0m\u001b[0margs\u001b[0m\u001b[0;34m,\u001b[0m \u001b[0;34m**\u001b[0m\u001b[0mkwargs\u001b[0m\u001b[0;34m)\u001b[0m\u001b[0;34m\u001b[0m\u001b[0;34m\u001b[0m\u001b[0m\n\u001b[0m\u001b[1;32m     64\u001b[0m \u001b[0;34m\u001b[0m\u001b[0m\n\u001b[1;32m     65\u001b[0m             \u001b[0;31m# extra_args > 0\u001b[0m\u001b[0;34m\u001b[0m\u001b[0;34m\u001b[0m\u001b[0;34m\u001b[0m\u001b[0m\n",
      "\u001b[0;32m/usr/local/lib/python3.6/dist-packages/sklearn/utils/validation.py\u001b[0m in \u001b[0;36mcheck_array\u001b[0;34m(array, accept_sparse, accept_large_sparse, dtype, order, copy, force_all_finite, ensure_2d, allow_nd, ensure_min_samples, ensure_min_features, estimator)\u001b[0m\n\u001b[1;32m    662\u001b[0m         \u001b[0;32mif\u001b[0m \u001b[0mforce_all_finite\u001b[0m\u001b[0;34m:\u001b[0m\u001b[0;34m\u001b[0m\u001b[0;34m\u001b[0m\u001b[0m\n\u001b[1;32m    663\u001b[0m             _assert_all_finite(array,\n\u001b[0;32m--> 664\u001b[0;31m                                allow_nan=force_all_finite == 'allow-nan')\n\u001b[0m\u001b[1;32m    665\u001b[0m \u001b[0;34m\u001b[0m\u001b[0m\n\u001b[1;32m    666\u001b[0m     \u001b[0;32mif\u001b[0m \u001b[0mensure_min_samples\u001b[0m \u001b[0;34m>\u001b[0m \u001b[0;36m0\u001b[0m\u001b[0;34m:\u001b[0m\u001b[0;34m\u001b[0m\u001b[0;34m\u001b[0m\u001b[0m\n",
      "\u001b[0;32m/usr/local/lib/python3.6/dist-packages/sklearn/utils/validation.py\u001b[0m in \u001b[0;36m_assert_all_finite\u001b[0;34m(X, allow_nan, msg_dtype)\u001b[0m\n\u001b[1;32m     84\u001b[0m     \u001b[0;34m\"\"\"Like assert_all_finite, but only for ndarray.\"\"\"\u001b[0m\u001b[0;34m\u001b[0m\u001b[0;34m\u001b[0m\u001b[0m\n\u001b[1;32m     85\u001b[0m     \u001b[0;31m# validation is also imported in extmath\u001b[0m\u001b[0;34m\u001b[0m\u001b[0;34m\u001b[0m\u001b[0;34m\u001b[0m\u001b[0m\n\u001b[0;32m---> 86\u001b[0;31m     \u001b[0;32mfrom\u001b[0m \u001b[0;34m.\u001b[0m\u001b[0mextmath\u001b[0m \u001b[0;32mimport\u001b[0m \u001b[0m_safe_accumulator_op\u001b[0m\u001b[0;34m\u001b[0m\u001b[0;34m\u001b[0m\u001b[0m\n\u001b[0m\u001b[1;32m     87\u001b[0m \u001b[0;34m\u001b[0m\u001b[0m\n\u001b[1;32m     88\u001b[0m     \u001b[0;32mif\u001b[0m \u001b[0m_get_config\u001b[0m\u001b[0;34m(\u001b[0m\u001b[0;34m)\u001b[0m\u001b[0;34m[\u001b[0m\u001b[0;34m'assume_finite'\u001b[0m\u001b[0;34m]\u001b[0m\u001b[0;34m:\u001b[0m\u001b[0;34m\u001b[0m\u001b[0;34m\u001b[0m\u001b[0m\n",
      "\u001b[0;32m/usr/lib/python3.6/importlib/_bootstrap.py\u001b[0m in \u001b[0;36mparent\u001b[0;34m(self)\u001b[0m\n",
      "\u001b[0;31mKeyboardInterrupt\u001b[0m: "
     ]
    }
   ],
   "source": [
    "total_random_max_iter = 0\n",
    "total_random_results = []\n",
    "total_random_mean = 0\n",
    "total_random_std = 0\n",
    "\n",
    "\n",
    "for i in range(50):\n",
    "    init = np.random.uniform(0.0, 1.0, (5, X.shape[1]))\n",
    "    ys = train_kmeans(X, init)\n",
    "    total_random_results.append(ys)\n",
    "    xs = len(ys)\n",
    "    total_random_max_iter = max(total_random_max_iter, xs)\n",
    "\n",
    "\n",
    "xs = list(range(1, random_max_iter + 1))\n",
    "for j in range(50):\n",
    "    last = total_random_results[j][-1]\n",
    "    while len(total_random_results[j]) < total_random_max_iter:\n",
    "        total_random_results[j].append(last)\n",
    "    \n",
    "total_random_mean = np.mean(total_random_results, axis=0)\n",
    "total_random_std = np.std(total_random_results, axis=0)\n",
    "\n",
    "print(len(total_random_mean) )"
   ]
  },
  {
   "cell_type": "code",
   "execution_count": null,
   "metadata": {},
   "outputs": [],
   "source": [
    "# for algorithm_name, mean, std in zip(names, means, stds):\n",
    "#     plt.errorbar(xs, mean, std, label=algorithm_name, capsize=3, marker='o')\n",
    "\n",
    "min_iter = min(plus_plus_max_iter, random_max_iter, total_random_max_iter)\n",
    "# print( max_iter )\n",
    "\n",
    "plus_plus_mean = plus_plus_mean[0:min_iter]\n",
    "plus_plus_std = plus_plus_std[0:min_iter]\n",
    "\n",
    "random_mean = random_mean[0:min_iter]\n",
    "random_std = random_std[0:min_iter]\n",
    "\n",
    "total_random_mean = total_random_mean[0:min_iter]\n",
    "total_random_std = total_random_std[0:min_iter]\n",
    "\n",
    "xs = list(range(1, min_iter + 1))\n",
    "plt.errorbar(xs, plus_plus_mean, plus_plus_std, label='KMeans++', capsize=3, marker='o', color='indianred')\n",
    "plt.errorbar(xs, random_mean, random_std, label='Random', capsize=3, marker='o', color='darkseagreen')\n",
    "plt.errorbar(xs, total_random_mean, total_random_std, label='Total random', capsize=3, marker='o', color='teal')\n",
    "\n",
    "\n",
    "plt.xlabel('Number of iterations', fontsize=18)\n",
    "plt.ylabel('Davies-Bouldin Score', fontsize=18)\n",
    "plt.legend()\n",
    "plt.show()\n"
   ]
  },
  {
   "cell_type": "code",
   "execution_count": 20,
   "metadata": {},
   "outputs": [],
   "source": [
    "def plot_k_means_for_various_k(X, k_min=3, k_max=25, n_iters=10):\n",
    "    ks = list(range(k_min, k_max + 1))\n",
    "    means, stds = [], []\n",
    "    for k in ks:\n",
    "        results = []\n",
    "        for _ in range(n_iters):\n",
    "            kmeans = KMeans(n_clusters = k, init='k-means++')\n",
    "            kmeans.fit(X)\n",
    "\n",
    "            labels = kmeans.labels_\n",
    "            score = sklearn.metrics.davies_bouldin_score(X, labels)\n",
    "            results.append(score)\n",
    "\n",
    "        means.append(np.mean(results))\n",
    "        stds.append(np.std(results))\n",
    "\n",
    "    plt.errorbar(ks, means, stds, label='k-means++', capsize=3, marker='o')\n",
    "\n",
    "    plt.xlabel('K', fontsize=18)\n",
    "    plt.ylabel('Davies-Bouldin Score', fontsize=18)\n",
    "    plt.legend()\n",
    "    plt.show()\n"
   ]
  },
  {
   "cell_type": "code",
   "execution_count": 21,
   "metadata": {},
   "outputs": [
    {
     "data": {
      "image/png": "[encoded data removed]",
      "text/plain": [
       "<matplotlib.figure.Figure at 0x7f02912b9a20>"
      ]
     },
     "metadata": {},
     "output_type": "display_data"
    }
   ],
   "source": [
    "plot_k_means_for_various_k(X, k_min=3, k_max=25, n_iters=10)"
   ]
  },
  {
   "cell_type": "markdown",
   "metadata": {},
   "source": [
    "Best k = 6"
   ]
  },
  {
   "cell_type": "code",
   "execution_count": 22,
   "metadata": {},
   "outputs": [],
   "source": [
    "def plot_pca_2d(X, labels, k, centers=False):\n",
    "    projected = PCA(2).fit_transform(X)\n",
    "    c = list(range(k))\n",
    "\n",
    "    cs = []\n",
    "    for i in range(X.shape[0]):\n",
    "        cs.append(c[labels[i]])\n",
    "\n",
    "    if centers:\n",
    "        plt.scatter(projected[:, 0], projected[:, 1], label=labels, marker='D', c=cs, s=60, cmap='rainbow')\n",
    "    else:\n",
    "        plt.scatter(projected[:, 0], projected[:, 1], label=labels, c=cs, cmap='rainbow')\n",
    "\n",
    "\n",
    "def plot_k_means_clusters(df, k = 6, init='k-means++'):\n",
    "    X = df.values\n",
    "    kmeans = KMeans(n_clusters=k, init=init)\n",
    "    kmeans.fit(X)\n",
    "\n",
    "    labels = kmeans.labels_\n",
    "    centers = kmeans.cluster_centers_\n",
    "    counter = collections.Counter(labels)\n",
    "    df = pandas.DataFrame(centers, columns=df.columns)\n",
    "\n",
    "    # todo characterize results\n",
    "    print('Elements in clusters')\n",
    "    for key, value in sorted(counter.items()):\n",
    "        print(f'{key}: {value}')\n",
    "\n",
    "#     print(tabulate(df.head(), headers='keys', tablefmt='psql'))\n",
    "\n",
    "    plot_pca_2d(X, labels, k)\n",
    "    plot_pca_2d(centers, np.array(range(k)), k, centers=True)\n",
    "    plt.xlabel('Component X', fontsize=18)\n",
    "    plt.ylabel('Component Y', fontsize=18)\n",
    "    plt.title('By Clusters', fontsize=22)\n",
    "    plt.show()\n"
   ]
  },
  {
   "cell_type": "code",
   "execution_count": 23,
   "metadata": {},
   "outputs": [
    {
     "name": "stdout",
     "output_type": "stream",
     "text": [
      "Elements in clusters\n",
      "0: 31\n",
      "1: 67\n",
      "2: 46\n",
      "3: 7\n",
      "4: 43\n",
      "5: 66\n"
     ]
    },
    {
     "data": {
      "image/png": "[encoded data removed]",
      "text/plain": [
       "<matplotlib.figure.Figure at 0x7f0291131470>"
      ]
     },
     "metadata": {},
     "output_type": "display_data"
    }
   ],
   "source": [
    "plot_k_means_clusters(df_normalized, k = 6, init='k-means++')"
   ]
  },
  {
   "cell_type": "code",
   "execution_count": 24,
   "metadata": {},
   "outputs": [],
   "source": [
    "def plot_categories(X, k, category_labels):\n",
    "    plot_pca_2d(X, category_labels, k)\n",
    "    plt.xlabel('Component X', fontsize=18)\n",
    "    plt.ylabel('Component Y', fontsize=18)\n",
    "    plt.title('By Categories', fontsize=22)\n",
    "    plt.show()\n"
   ]
  },
  {
   "cell_type": "code",
   "execution_count": 25,
   "metadata": {},
   "outputs": [
    {
     "data": {
      "image/png": "[encoded data removed]",
      "text/plain": [
       "<matplotlib.figure.Figure at 0x7f02910fea58>"
      ]
     },
     "metadata": {},
     "output_type": "display_data"
    }
   ],
   "source": [
    "plot_categories(X, len(labels), labels)"
   ]
  },
  {
   "cell_type": "code",
   "execution_count": null,
   "metadata": {},
   "outputs": [],
   "source": []
  },
  {
   "cell_type": "code",
   "execution_count": null,
   "metadata": {},
   "outputs": [],
   "source": []
  }
 ],
 "metadata": {
  "kernelspec": {
   "display_name": "Python 3",
   "language": "python",
   "name": "python3"
  },
  "language_info": {
   "codemirror_mode": {
    "name": "ipython",
    "version": 3
   },
   "file_extension": ".py",
   "mimetype": "text/x-python",
   "name": "python",
   "nbconvert_exporter": "python",
   "pygments_lexer": "ipython3",
   "version": "3.6.9"
  }
 },
 "nbformat": 4,
 "nbformat_minor": 2
}
