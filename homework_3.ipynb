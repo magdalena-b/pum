{
 "cells": [
  {
   "cell_type": "code",
   "execution_count": 152,
   "metadata": {},
   "outputs": [],
   "source": [
    "import numpy as np\n",
    "import os\n",
    "import glob\n",
    "from PIL import Image\n",
    "from sklearn.decomposition import PCA\n",
    "import matplotlib.pyplot as plt"
   ]
  },
  {
   "cell_type": "code",
   "execution_count": 153,
   "metadata": {},
   "outputs": [],
   "source": [
    "def load_dataset():\n",
    "    dataset = []\n",
    "    for path in glob.glob(\"./buty/*\"):\n",
    "        img = Image.open(path)\n",
    "        class_name = os.path.basename(path).split()[0]\n",
    "        dataset.append((class_name, img))\n",
    "    return dataset"
   ]
  },
  {
   "cell_type": "code",
   "execution_count": 154,
   "metadata": {},
   "outputs": [],
   "source": [
    "png_dataset = load_dataset()"
   ]
  },
  {
   "cell_type": "code",
   "execution_count": 155,
   "metadata": {},
   "outputs": [],
   "source": [
    "def dataset_img_to_vector(dataset):\n",
    "    labels = []\n",
    "    images = []\n",
    "    \n",
    "    for class_name, img in dataset:\n",
    "#         vec_img = np.asarray(img)\n",
    "        vec_img = np.asarray(img).reshape((-1, 1))\n",
    "        labels.append(class_name)\n",
    "        images.append(vec_img)\n",
    "        \n",
    "    return labels, np.hstack(images)"
   ]
  },
  {
   "cell_type": "code",
   "execution_count": 156,
   "metadata": {},
   "outputs": [],
   "source": [
    "labels, images = dataset_img_to_vector(png_dataset)"
   ]
  },
  {
   "cell_type": "code",
   "execution_count": 159,
   "metadata": {},
   "outputs": [
    {
     "name": "stdout",
     "output_type": "stream",
     "text": [
      "[[158 161 188 ... 172 194 166]\n",
      " [156 165 193 ... 172 197 168]\n",
      " [153 163 202 ... 168 202 167]\n",
      " ...\n",
      " [133 151 160 ... 165 153 143]\n",
      " [129 155 161 ... 153 151 152]\n",
      " [125 153 134 ... 139 152 156]]\n"
     ]
    }
   ],
   "source": [
    "print(images)"
   ]
  },
  {
   "cell_type": "code",
   "execution_count": 158,
   "metadata": {},
   "outputs": [],
   "source": [
    "def mean_img_show(X):\n",
    "    mean = np.mean(X, axis = 0)\n",
    "    return mean\n",
    "\n"
   ]
  },
  {
   "cell_type": "code",
   "execution_count": 140,
   "metadata": {},
   "outputs": [
    {
     "name": "stdout",
     "output_type": "stream",
     "text": [
      "[[175.53333333]\n",
      " [177.23333333]\n",
      " [178.03333333]\n",
      " ...\n",
      " [156.23333333]\n",
      " [154.43333333]\n",
      " [148.8       ]]\n"
     ]
    }
   ],
   "source": [
    "mean = mean_img_show(images)\n",
    "print(mean)"
   ]
  },
  {
   "cell_type": "code",
   "execution_count": 161,
   "metadata": {},
   "outputs": [],
   "source": [
    "img = img.convert(\"L\")\n",
    "img = Image.fromarray(mean, 'LA')\n",
    "img.save('mean.png')\n",
    "img.show()"
   ]
  },
  {
   "cell_type": "code",
   "execution_count": null,
   "metadata": {},
   "outputs": [],
   "source": []
  },
  {
   "cell_type": "code",
   "execution_count": null,
   "metadata": {},
   "outputs": [],
   "source": []
  }
 ],
 "metadata": {
  "kernelspec": {
   "display_name": "Python 3",
   "language": "python",
   "name": "python3"
  },
  "language_info": {
   "codemirror_mode": {
    "name": "ipython",
    "version": 3
   },
   "file_extension": ".py",
   "mimetype": "text/x-python",
   "name": "python",
   "nbconvert_exporter": "python",
   "pygments_lexer": "ipython3",
   "version": "3.6.9"
  }
 },
 "nbformat": 4,
 "nbformat_minor": 2
}
