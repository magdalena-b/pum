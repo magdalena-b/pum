{
 "cells": [
  {
   "cell_type": "code",
   "execution_count": null,
   "metadata": {},
   "outputs": [],
   "source": [
    "# 2-dimensional data set\n",
    "# knn: train different metrics\n",
    "# knn: examine results of changes in metrics"
   ]
  },
  {
   "cell_type": "code",
   "execution_count": 1,
   "metadata": {},
   "outputs": [],
   "source": [
    "import numpy as np\n",
    "import matplotlib.pyplot as plt\n",
    "import sklearn"
   ]
  },
  {
   "cell_type": "code",
   "execution_count": 3,
   "metadata": {},
   "outputs": [],
   "source": [
    "# m a ke  b l o b s\n",
    "def create_data_set():\n",
    "    # 2-dimensional, 3 classes, uneven, overlapping\n",
    "    # n features = n dimensions\n",
    "    class_1 = sklearn.datasets.make_blobs(n_samples = 1000, centers = 1, n_features = 2, clusters_std = 0.75, random_state = 0)\n",
    "    class_2 = sklearn.datasets.make_blobs(n_samples = 1000, centers = 1, n_features = 2, clusters_std = 0.75, random_state = 0)\n",
    "    class_3 = sklearn.datasets.make_blobs(n_samples = 1000, centers = 1, n_features = 2, clusters_std = 0.75, random_state = 0)\n"
   ]
  },
  {
   "cell_type": "code",
   "execution_count": null,
   "metadata": {},
   "outputs": [],
   "source": []
  }
 ],
 "metadata": {
  "kernelspec": {
   "display_name": "Python 3",
   "language": "python",
   "name": "python3"
  },
  "language_info": {
   "codemirror_mode": {
    "name": "ipython",
    "version": 3
   },
   "file_extension": ".py",
   "mimetype": "text/x-python",
   "name": "python",
   "nbconvert_exporter": "python",
   "pygments_lexer": "ipython3",
   "version": "3.6.9"
  }
 },
 "nbformat": 4,
 "nbformat_minor": 2
}
