{
 "cells": [
  {
   "cell_type": "markdown",
   "metadata": {},
   "source": [
    "Hyperball -> tablica punktow \n",
    "punkty -> tablice o len == ilosc wymiarow\n",
    "for each punkt:\n",
    "    for each wymiar:\n",
    "        n_ty wymiar punkty p = random (-promien, promien)"
   ]
  },
  {
   "cell_type": "code",
   "execution_count": 1,
   "metadata": {},
   "outputs": [],
   "source": [
    "import numpy as np\n",
    "import matplotlib.pyplot as plt"
   ]
  },
  {
   "cell_type": "markdown",
   "metadata": {},
   "source": [
    "Exercise 1"
   ]
  },
  {
   "cell_type": "code",
   "execution_count": 23,
   "metadata": {},
   "outputs": [],
   "source": [
    "def points_distribution(points_n, dimensions_n, radius):\n",
    "    points = [[np.random.uniform(-1, 1) for i in range(dimensions_n)] for j in range(points_n)]\n",
    "    in_ball = [points[i] for i in range(points_n) if (sum(np.power(points[i][d], 2) for d in range(dimensions_n)) <= radius)]\n",
    "    not_in_ball = [points[i] for i in range(points_n) if (sum(np.power(points[i][d],2) for d in range(dimensions_n)) > radius)]\n",
    "    in_ball_percent = 100 * len(list(in_ball)) / points_n\n",
    "    not_in_ball_percent = 100 * len(list(not_in_ball)) / points_n\n",
    "    return in_ball_percent, not_in_ball_percent"
   ]
  },
  {
   "cell_type": "code",
   "execution_count": 24,
   "metadata": {},
   "outputs": [
    {
     "name": "stdout",
     "output_type": "stream",
     "text": [
      "Points in ball: 33.0 %, Points not in ball: 67.0 %\n"
     ]
    }
   ],
   "source": [
    "in_b, not_in_b = points_distribution(100, 4, 1)\n",
    "print(\"Points in ball: \" + str(in_b) + \" %, Points not in ball: \" + str(not_in_b) + \" %\")"
   ]
  },
  {
   "cell_type": "code",
   "execution_count": null,
   "metadata": {},
   "outputs": [],
   "source": []
  }
 ],
 "metadata": {
  "kernelspec": {
   "display_name": "Python 3",
   "language": "python",
   "name": "python3"
  },
  "language_info": {
   "codemirror_mode": {
    "name": "ipython",
    "version": 3
   },
   "file_extension": ".py",
   "mimetype": "text/x-python",
   "name": "python",
   "nbconvert_exporter": "python",
   "pygments_lexer": "ipython3",
   "version": "3.6.9"
  }
 },
 "nbformat": 4,
 "nbformat_minor": 2
}
