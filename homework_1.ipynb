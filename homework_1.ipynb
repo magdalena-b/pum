{
 "cells": [
  {
   "cell_type": "code",
   "execution_count": 15,
   "metadata": {},
   "outputs": [],
   "source": [
    "import numpy as np\n",
    "import matplotlib.pyplot as plt\n",
    "import math\n",
    "import random"
   ]
  },
  {
   "cell_type": "code",
   "execution_count": 36,
   "metadata": {},
   "outputs": [],
   "source": [
    "def plot_scatter(data_A, data_B, x_axis, label_A, label_B):\n",
    "\n",
    "    x = x_axis\n",
    "    a = data_A\n",
    "    b = data_B\n",
    "\n",
    "    fig, ax = plt.subplots()\n",
    "    ax.scatter(x, a, color = \"r\", label = label_A)\n",
    "    ax.scatter(x, b, color = \"b\", label = label_B)\n",
    "    \n",
    "    plt.show()"
   ]
  },
  {
   "cell_type": "code",
   "execution_count": 27,
   "metadata": {},
   "outputs": [],
   "source": [
    "def plot_histogram(data_A, data_B, x_axis, label_A, label_B):\n",
    "\n",
    "    x = x_axis\n",
    "    a = data_A\n",
    "    b = data_B\n",
    "\n",
    "    fig, ax = plt.subplots()\n",
    "    ax.hist(x, a, color = \"b\", label = label_A)\n",
    "    ax.hist(x, b, color = \"r\", label = label_B)\n",
    "    \n",
    "    plt.show()"
   ]
  },
  {
   "cell_type": "markdown",
   "metadata": {},
   "source": [
    "Exercise 1"
   ]
  },
  {
   "cell_type": "code",
   "execution_count": 82,
   "metadata": {},
   "outputs": [],
   "source": [
    "def points_distribution(points_n, dimensions_n, radius):\n",
    "    \n",
    "    points = [[np.random.uniform(-1, 1) for i in range(dimensions_n)] for j in range(points_n)]\n",
    "    center_point = np.zeros(dimensions_n)\n",
    "    \n",
    "    in_ball = [points[i] for i in range(points_n) if (np.linalg.norm(points[i] - center_point) <= radius)]\n",
    "    \n",
    "    not_in_ball = [points[i] for i in range(points_n) if (np.linalg.norm(points[i] - center_point) > radius)]\n",
    "    \n",
    "    in_ball_percent = 100 * len(list(in_ball)) / points_n\n",
    "    not_in_ball_percent = 100 * len(list(not_in_ball)) / points_n\n",
    "    return in_ball_percent, not_in_ball_percent"
   ]
  },
  {
   "cell_type": "code",
   "execution_count": 84,
   "metadata": {
    "scrolled": true
   },
   "outputs": [
    {
     "name": "stdout",
     "output_type": "stream",
     "text": [
      "Points in ball: 27.0 %, Points not in ball: 73.0 %\n"
     ]
    }
   ],
   "source": [
    "points_distribution(100, 4, 1)\n",
    "\n",
    "in_b, not_in_b = points_distribution(100, 4, 1)\n",
    "print(\"Points in ball: \" + str(in_b) + \" %, Points not in ball: \" + str(not_in_b) + \" %\")"
   ]
  },
  {
   "cell_type": "markdown",
   "metadata": {},
   "source": [
    "Create a plot"
   ]
  },
  {
   "cell_type": "code",
   "execution_count": 14,
   "metadata": {},
   "outputs": [],
   "source": [
    "def points_distribution_plot(samples_n):\n",
    "    in_ball = []\n",
    "    out_ball = []\n",
    "    dimension = []\n",
    "    d = 2\n",
    "    for i in range(samples_n):\n",
    "        p = 1000\n",
    "        d += 1\n",
    "        d_actual = (d % 10) + 1\n",
    "        in_b, out_b = points_distribution(p, d_actual, 1)\n",
    "        in_ball.append(in_b)\n",
    "        out_ball.append(out_b)\n",
    "        dimension.append(d_actual)\n",
    "    return in_ball, out_ball, dimension"
   ]
  },
  {
   "cell_type": "code",
   "execution_count": 40,
   "metadata": {},
   "outputs": [],
   "source": [
    "in_ball, out_ball, dim = points_distribution_plot(500)"
   ]
  },
  {
   "cell_type": "code",
   "execution_count": null,
   "metadata": {},
   "outputs": [],
   "source": [
    "print(in_ball)\n",
    "print(\"\\n\\n\")\n",
    "print(out_ball)"
   ]
  },
  {
   "cell_type": "code",
   "execution_count": 86,
   "metadata": {},
   "outputs": [
    {
     "data": {
      "image/png": "[encoded data removed]",
      "text/plain": [
       "<matplotlib.figure.Figure at 0x7fc322a6bcf8>"
      ]
     },
     "metadata": {},
     "output_type": "display_data"
    }
   ],
   "source": [
    "plot_scatter(in_ball, out_ball, dim, \"In\", \"Out\")"
   ]
  },
  {
   "cell_type": "markdown",
   "metadata": {},
   "source": [
    "Exercise 2"
   ]
  },
  {
   "cell_type": "code",
   "execution_count": 17,
   "metadata": {},
   "outputs": [],
   "source": [
    "def create_hypercube(points_n, dimensions_n):\n",
    "    points = [[np.random.uniform(-1, 1) for i in range(dimensions_n)] for j in range(points_n)]\n",
    "    return points"
   ]
  },
  {
   "cell_type": "code",
   "execution_count": 18,
   "metadata": {},
   "outputs": [],
   "source": [
    "def mean_and_std_distance_hypercube(points_n, dimensions_n, samples_n):\n",
    "    points = create_hypercube(points_n, dimensions_n)\n",
    "    sampled_points = np.array(random.sample(points, samples_n))\n",
    "    distances = []\n",
    "    \n",
    "    for i in range(samples_n):\n",
    "        for j in range(i + 1, samples_n):\n",
    "            distance = np.linalg.norm(sampled_points[i] - sampled_points[j])\n",
    "            distances.append(distance)\n",
    "    \n",
    "    return np.mean(distances), np.std(distances)"
   ]
  },
  {
   "cell_type": "code",
   "execution_count": 19,
   "metadata": {},
   "outputs": [
    {
     "name": "stdout",
     "output_type": "stream",
     "text": [
      "(1.7561932810675225, 0.4905034086126409)\n"
     ]
    }
   ],
   "source": [
    "print(mean_and_std_distance_hypercube(1000, 5, 250))"
   ]
  },
  {
   "cell_type": "code",
   "execution_count": 32,
   "metadata": {},
   "outputs": [],
   "source": [
    "def mean_and_std_plot(samples_n):\n",
    "    mean = []\n",
    "    std = []\n",
    "    dimension = []\n",
    "    d = 2\n",
    "    \n",
    "    for d in range(1, 10):\n",
    "        for i in range(samples_n):\n",
    "            p = 1000\n",
    "            m, s = mean_and_std_distance_hypercube(1000, d, 400)\n",
    "            mean.append(m)\n",
    "            std.append(s)\n",
    "            dimension.append(d) \n",
    "        \n",
    "            \n",
    "#         d += 1\n",
    "#         d_actual = (d % 10) + 1\n",
    "#         m, s = mean_and_std_distance_hypercube(1000, d_actual, 400)\n",
    "#         mean.append(m)\n",
    "#         std.append(s)\n",
    "#         dimension.append(d_actual)\n",
    "        \n",
    "    return mean, std, dimension"
   ]
  },
  {
   "cell_type": "code",
   "execution_count": null,
   "metadata": {},
   "outputs": [],
   "source": [
    "mean, std, dim = mean_and_std_plot(10)\n",
    "# print(mean)\n",
    "# print(\"\\n\\n\")\n",
    "# print(std)\n",
    "# print(\"\\n\\n\")\n",
    "# print(dim)"
   ]
  },
  {
   "cell_type": "code",
   "execution_count": 37,
   "metadata": {
    "scrolled": true
   },
   "outputs": [
    {
     "data": {
      "image/png": "[encoded data removed]",
      "text/plain": [
       "<matplotlib.figure.Figure at 0x7fe95424fcc0>"
      ]
     },
     "metadata": {},
     "output_type": "display_data"
    }
   ],
   "source": [
    "plot_scatter(mean, std, dim, \"Mean\", \"std\")"
   ]
  },
  {
   "cell_type": "code",
   "execution_count": null,
   "metadata": {},
   "outputs": [],
   "source": []
  }
 ],
 "metadata": {
  "kernelspec": {
   "display_name": "Python 3",
   "language": "python",
   "name": "python3"
  },
  "language_info": {
   "codemirror_mode": {
    "name": "ipython",
    "version": 3
   },
   "file_extension": ".py",
   "mimetype": "text/x-python",
   "name": "python",
   "nbconvert_exporter": "python",
   "pygments_lexer": "ipython3",
   "version": "3.6.9"
  }
 },
 "nbformat": 4,
 "nbformat_minor": 2
}
