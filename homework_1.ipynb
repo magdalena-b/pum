{
 "cells": [
  {
   "cell_type": "markdown",
   "metadata": {},
   "source": [
    "Hyperball -> tablica punktow \n",
    "punkty -> tablice o len == ilosc wymiarow\n",
    "for each punkt:\n",
    "    for each wymiar:\n",
    "        n_ty wymiar punkty p = random (-promien, promien)"
   ]
  },
  {
   "cell_type": "code",
   "execution_count": 1,
   "metadata": {},
   "outputs": [],
   "source": [
    "import numpy as np\n",
    "import matplotlib.pyplot as plt\n",
    "import math"
   ]
  },
  {
   "cell_type": "markdown",
   "metadata": {},
   "source": [
    "Exercise 1"
   ]
  },
  {
   "cell_type": "code",
   "execution_count": 82,
   "metadata": {},
   "outputs": [],
   "source": [
    "def points_distribution(points_n, dimensions_n, radius):\n",
    "    \n",
    "    points = [[np.random.uniform(-1, 1) for i in range(dimensions_n)] for j in range(points_n)]\n",
    "    center_point = np.zeros(dimensions_n)\n",
    "    \n",
    "    in_ball = [points[i] for i in range(points_n) if (np.linalg.norm(points[i] - center_point) <= radius)]\n",
    "    \n",
    "    not_in_ball = [points[i] for i in range(points_n) if (np.linalg.norm(points[i] - center_point) > radius)]\n",
    "    \n",
    "    in_ball_percent = 100 * len(list(in_ball)) / points_n\n",
    "    not_in_ball_percent = 100 * len(list(not_in_ball)) / points_n\n",
    "    return in_ball_percent, not_in_ball_percent"
   ]
  },
  {
   "cell_type": "code",
   "execution_count": 84,
   "metadata": {
    "scrolled": true
   },
   "outputs": [
    {
     "name": "stdout",
     "output_type": "stream",
     "text": [
      "Points in ball: 27.0 %, Points not in ball: 73.0 %\n"
     ]
    }
   ],
   "source": [
    "points_distribution(100, 4, 1)\n",
    "\n",
    "in_b, not_in_b = points_distribution(100, 4, 1)\n",
    "print(\"Points in ball: \" + str(in_b) + \" %, Points not in ball: \" + str(not_in_b) + \" %\")"
   ]
  },
  {
   "cell_type": "markdown",
   "metadata": {},
   "source": [
    "Create a plot"
   ]
  },
  {
   "cell_type": "code",
   "execution_count": 14,
   "metadata": {},
   "outputs": [],
   "source": [
    "def points_distribution_plot(samples_n):\n",
    "    in_ball = []\n",
    "    out_ball = []\n",
    "    dimension = []\n",
    "    d = 2\n",
    "    for i in range(samples_n):\n",
    "        p = 1000\n",
    "        d += 1\n",
    "        d_actual = (d % 10) + 1\n",
    "        in_b, out_b = points_distribution(p, d_actual, 1)\n",
    "        in_ball.append(in_b)\n",
    "        out_ball.append(out_b)\n",
    "        dimension.append(d_actual)\n",
    "    return in_ball, out_ball, dimension"
   ]
  },
  {
   "cell_type": "code",
   "execution_count": 40,
   "metadata": {},
   "outputs": [],
   "source": [
    "in_ball, out_ball, dim = points_distribution_plot(500)"
   ]
  },
  {
   "cell_type": "code",
   "execution_count": 28,
   "metadata": {},
   "outputs": [
    {
     "name": "stdout",
     "output_type": "stream",
     "text": [
      "[31.1, 16.5, 8.1, 3.1, 1.6, 0.9, 0.2, 100.0, 79.3, 55.0]\n",
      "\n",
      "\n",
      "\n",
      "[68.9, 83.5, 91.9, 96.9, 98.4, 99.1, 99.8, 0.0, 20.7, 45.0]\n"
     ]
    }
   ],
   "source": [
    "print(in_ball)\n",
    "print(\"\\n\\n\")\n",
    "print(out_ball)"
   ]
  },
  {
   "cell_type": "code",
   "execution_count": 41,
   "metadata": {},
   "outputs": [],
   "source": [
    "def plot(data_A, data_B, x_axis):\n",
    "#     fig, ax = plt.subplots()\n",
    "#     _, ax = plt.subplots(1, 2, figsize=(40, 30))\n",
    "\n",
    "#     in_b = ax.scatter(x_axis, data_A, color = \"b\", label = \"in ball\")\n",
    "#     out_b = ax.scatter(x_axis, data_B, color = \"r\", label = \"out ball\")\n",
    "    \n",
    "    \n",
    "#     ax.legend((in_b, out_b), ('In', 'Out'))\n",
    "    \n",
    "#     ax.set_title(\"Monte Carlo\")\n",
    "#     ax.set_xlabel(\"Dimensions\")\n",
    "#     ax.set_ylabel(\"Points\");\n",
    "#     ax.set_yscale(\"log\")\n",
    "\n",
    "#     plt.show()\n",
    "\n",
    "\n",
    "    x = x_axis\n",
    "    a = data_A\n",
    "    b = data_B\n",
    "\n",
    "    # Create plots with pre-defined labels.\n",
    "    fig, ax = plt.subplots()\n",
    "    #ax.plot(x, a, label='In')\n",
    "    ax.scatter(x, a, color = \"r\", label = \"In\")\n",
    "    ax.scatter(x, b, color = \"b\", label = \"Out\")\n",
    "    #ax.plot(x, b, label='Out')\n",
    "\n",
    "    #legend = ax.legend(loc='upper center', shadow=True, fontsize='x-large')\n",
    "\n",
    "    # Put a nicer background color on the legend.\n",
    "    #legend.get_frame().set_facecolor('C0')\n",
    "\n",
    "    plt.show()"
   ]
  },
  {
   "cell_type": "code",
   "execution_count": 42,
   "metadata": {},
   "outputs": [
    {
     "data": {
      "image/png": "[encoded data removed]",
      "text/plain": [
       "<matplotlib.figure.Figure at 0x7fc322b7bc88>"
      ]
     },
     "metadata": {},
     "output_type": "display_data"
    }
   ],
   "source": [
    "plot(in_ball, out_ball, dim)"
   ]
  },
  {
   "cell_type": "code",
   "execution_count": null,
   "metadata": {},
   "outputs": [],
   "source": []
  }
 ],
 "metadata": {
  "kernelspec": {
   "display_name": "Python 3",
   "language": "python",
   "name": "python3"
  },
  "language_info": {
   "codemirror_mode": {
    "name": "ipython",
    "version": 3
   },
   "file_extension": ".py",
   "mimetype": "text/x-python",
   "name": "python",
   "nbconvert_exporter": "python",
   "pygments_lexer": "ipython3",
   "version": "3.6.9"
  }
 },
 "nbformat": 4,
 "nbformat_minor": 2
}
